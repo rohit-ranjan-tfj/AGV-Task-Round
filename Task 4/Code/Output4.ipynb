{
 "cells": [
  {
   "cell_type": "code",
   "execution_count": 1,
   "id": "expected-player",
   "metadata": {},
   "outputs": [],
   "source": [
    "import numpy as np\n",
    "import cv2\n",
    "from PIL import Image\n",
    "import matplotlib.pyplot as plt\n",
    "import math\n",
    "from sklearn.feature_extraction import image\n",
    "from sklearn.cluster import spectral_clustering\n",
    "from moviepy.editor import VideoFileClip\n",
    "import tqdm"
   ]
  },
  {
   "cell_type": "code",
   "execution_count": 2,
   "id": "adjusted-layer",
   "metadata": {},
   "outputs": [],
   "source": [
    "def save(image,name):\n",
    "    name=\"\"+str(name)+\".png\"\n",
    "    cv2.imwrite(name,image)\n"
   ]
  },
  {
   "cell_type": "code",
   "execution_count": 3,
   "id": "completed-store",
   "metadata": {},
   "outputs": [],
   "source": [
    "def grayen(image):\n",
    "    grayenn = cv2.cvtColor(image, cv2.COLOR_RGB2GRAY)\n",
    "    return grayenn"
   ]
  },
  {
   "cell_type": "code",
   "execution_count": 4,
   "id": "vital-complex",
   "metadata": {},
   "outputs": [],
   "source": [
    "def darken(image):\n",
    "    new_image=np.zeros_like(image)\n",
    "    alpha=0.19\n",
    "    beta=-35\n",
    "    new_image=np.clip(np.multiply(alpha,image)+beta,0,255)\n",
    "    return new_image"
   ]
  },
  {
   "cell_type": "code",
   "execution_count": 5,
   "id": "resistant-brunswick",
   "metadata": {},
   "outputs": [],
   "source": [
    "def brighten(image):\n",
    "    new_image=np.zeros_like(image)\n",
    "    gamma=0.5\n",
    "    new_image=np.clip(np.multiply(np.power(np.multiply(1/255,image),gamma),255),0,255)\n",
    "    return new_image"
   ]
  },
  {
   "cell_type": "code",
   "execution_count": 6,
   "id": "naked-chicago",
   "metadata": {},
   "outputs": [],
   "source": [
    "def colour_threshing(image):\n",
    "    image = np.where(image < 210, 0, 255)\n",
    "\n",
    "    return image"
   ]
  },
  {
   "cell_type": "code",
   "execution_count": 7,
   "id": "instrumental-theory",
   "metadata": {},
   "outputs": [],
   "source": [
    "def perspective(image):\n",
    "    h,w=image.shape\n",
    "    pts1 = np.float32([[h/3,0],[h/3,w-1],[h-1,0],[h-1,w-1]])\n",
    "    pts2 = np.float32([[0,0],[300,0],[0,300],[300,300]])\n",
    "\n",
    "    M = cv2.getPerspectiveTransform(pts1,pts2)\n",
    "\n",
    "    dst = cv2.warpPerspective(median_image,M,(300,300))\n",
    "    return dst"
   ]
  },
  {
   "cell_type": "code",
   "execution_count": 8,
   "id": "mexican-virgin",
   "metadata": {},
   "outputs": [],
   "source": [
    "def roi_mask(image):\n",
    "    mask=np.zeros_like(image)\n",
    "    height,width = image.shape\n",
    "    a3 = np.array( [[[0,200],[1500,200],[width-1,800],[width-1,height-1],[0,height-1]]], dtype=np.int32 )\n",
    "    cv2.fillPoly(mask,a3,255)\n",
    "    return mask"
   ]
  },
  {
   "cell_type": "code",
   "execution_count": 9,
   "id": "composed-bedroom",
   "metadata": {},
   "outputs": [],
   "source": [
    "def white_pixels(image,x,y):\n",
    "    h=window_h\n",
    "    w=window_w\n",
    "    sum1=np.sum(combo[y-h:y,x:x+w],axis=0).reshape((1,w))\n",
    "    sum2=np.sum(sum1,axis=1)\n",
    "    return sum2/255"
   ]
  },
  {
   "cell_type": "code",
   "execution_count": 10,
   "id": "complicated-sending",
   "metadata": {},
   "outputs": [],
   "source": [
    "def centroid(rect1x):\n",
    "    he=rect1x.shape[0]\n",
    "    wi=rect1x.shape[1]\n",
    "    sum1x=0\n",
    "    sum1y=0\n",
    "    for i in range(he):\n",
    "        for j in range(wi):\n",
    "            sum1x=sum1x+j*rect1x[i,j]*(1/255)\n",
    "            sum1y=sum1y+i*rect1x[i,j]*(1/255)\n",
    "    sum1x=int(sum1x/window_w)\n",
    "    sum1y=int(sum1y/window_h)\n",
    "    return [sum1x,sum1y]"
   ]
  },
  {
   "cell_type": "code",
   "execution_count": 11,
   "id": "imposed-belly",
   "metadata": {},
   "outputs": [],
   "source": [
    "def yellow_black(image):\n",
    "    hsv=cv2.cvtColor(image,cv2.COLOR_BGR2HSV)\n",
    "    yellow_lo=np.array([25,175,175])\n",
    "    yellow_hi=np.array([35,255,255])\n",
    "\n",
    "    mask=cv2.inRange(hsv,yellow_lo,yellow_hi)\n",
    "    \n",
    "    img=np.copy(image)\n",
    "    img[mask>0]=(0,0,0)\n",
    "\n",
    "    return img"
   ]
  },
  {
   "cell_type": "code",
   "execution_count": 12,
   "id": "incident-demand",
   "metadata": {},
   "outputs": [],
   "source": [
    "def green_white(image):\n",
    "    hsv=cv2.cvtColor(image,cv2.COLOR_BGR2HSV)\n",
    "    green_lo=np.array([20,10,30])\n",
    "    green_hi=np.array([80,255,255])\n",
    "\n",
    "    mask=cv2.inRange(hsv,green_lo,green_hi)\n",
    "    img=np.copy(image)\n",
    "    img[mask>0]=(255,255,255)\n",
    "\n",
    "    return img"
   ]
  },
  {
   "cell_type": "code",
   "execution_count": 13,
   "id": "improving-assignment",
   "metadata": {},
   "outputs": [],
   "source": [
    "def binary(image):\n",
    "    img=np.copy(image)\n",
    "    img=np.where(img!=(255,255,255),(0,0,0),(255,255,255))\n",
    "    return img"
   ]
  },
  {
   "cell_type": "code",
   "execution_count": 14,
   "id": "alpha-proxy",
   "metadata": {},
   "outputs": [],
   "source": [
    "def vid_pipeline(img):\n",
    "    x=0\n",
    "    y=0\n",
    "    width= img.shape[1]\n",
    "    height=img.shape[0]\n",
    "    crop_image = img[y:y+(int)(height*(5/6)), x:x+width]\n",
    "\n",
    "    width= crop_image.shape[1]\n",
    "    height=crop_image.shape[0]\n",
    "    \n",
    "    yellow=yellow_black(cv2.medianBlur(crop_image.astype(np.uint8),25))\n",
    "    green=green_white(yellow)\n",
    "    masked=binary(green)\n",
    "    masked = cv2.medianBlur(masked.astype(np.uint8),9)\n",
    "    \n",
    "    crop_image2=np.copy(crop_image)\n",
    "    crop_image2 = cv2.medianBlur(np.uint8(crop_image2.astype(np.float32)),25)\n",
    "    \n",
    "    median = cv2.medianBlur(np.uint8(crop_image2),35)\n",
    "    \n",
    "    edge=cv2.Canny(np.uint8(median),10,100)\n",
    "    \n",
    "    dilation = cv2.dilate(np.uint8(edge),np.ones((5,5)),iterations = 1)\n",
    "    \n",
    "    contours, hierarchy = cv2.findContours((np.uint8(dilation)), cv2.RETR_TREE, cv2.CHAIN_APPROX_SIMPLE)\n",
    "    con=cv2.drawContours((np.uint8(edge)), contours, -1,255, 30)\n",
    "    \n",
    "    imcon=np.where(con==255,0,255)\n",
    "    \n",
    "    rgb=cv2.cvtColor(con,cv2.COLOR_GRAY2RGB)\n",
    "    \n",
    "    crop_image=np.where(rgb==(255,255,255),crop_image*0,crop_image)\n",
    "    \n",
    "    \n",
    "#     \n",
    "# \n",
    "    gray=grayen(crop_image2)\n",
    "    brighten_image=brighten(gray)\n",
    "    bw_image=colour_threshing(brighten_image)\n",
    "    median_image = cv2.medianBlur(np.uint8(bw_image.astype(np.float32)),15)\n",
    "    mask=roi_mask(median_image)\n",
    "    combo=cv2.bitwise_and(mask,median_image)\n",
    "    # save(combo,\"f3\")\n",
    "    kernel = np.ones((5,5),np.uint8)\n",
    "    dilation = cv2.dilate(np.uint8(combo.astype(np.float32)),kernel,iterations = 1)\n",
    "    median_image = cv2.medianBlur(np.uint8(dilation.astype(np.float32)),35)\n",
    "    dilation = cv2.dilate(np.uint8(median_image.astype(np.float32)),kernel,iterations = 3)\n",
    "    imcon2=np.where(dilation==255,0,255)\n",
    "    rgb2=cv2.cvtColor(dilation,cv2.COLOR_GRAY2RGB)\n",
    "    crop_image=np.where(rgb2==(255,255,255),crop_image*0,crop_image)\n",
    "\n",
    "   \n",
    "    crop_image=np.where(masked==(0,0,0),crop_image*0,crop_image*1)\n",
    "      \n",
    "    return crop_image"
   ]
  },
  {
   "cell_type": "code",
   "execution_count": 15,
   "id": "northern-mapping",
   "metadata": {},
   "outputs": [],
   "source": [
    "# myclip = VideoFileClip('sample_output.mp4')\n",
    "# output_vid = 'output4.mp4'\n",
    "# clip = myclip.fl_image(vid_pipeline)\n",
    "# clip.write_videofile(output_vid, audio=True)"
   ]
  },
  {
   "cell_type": "code",
   "execution_count": 16,
   "id": "indonesian-webcam",
   "metadata": {},
   "outputs": [],
   "source": [
    "save(vid_pipeline(cv2.imread(\"frame1.png\")),\"000\")"
   ]
  },
  {
   "cell_type": "code",
   "execution_count": 17,
   "id": "handled-hardware",
   "metadata": {},
   "outputs": [],
   "source": [
    "\n",
    "# cap= cv2.VideoCapture('sample_input.mp4')\n",
    "# i=0\n",
    "# while(cap.isOpened()):\n",
    "#     ret, frame = cap.read()\n",
    "#     if ret == False:\n",
    "#         break\n",
    "#     cv2.imwrite('f'+str(i)+'.jpg',vid_pipeline(frame))\n",
    "#     print(\"-\",i,\"/3598\")\n",
    "#     i+=1\n",
    " \n",
    "# cap.release()\n",
    "# cv2.destroyAllWindows()"
   ]
  },
  {
   "cell_type": "code",
   "execution_count": 18,
   "id": "restricted-coupon",
   "metadata": {},
   "outputs": [],
   "source": [
    "# import cv2\n",
    "# import numpy as np\n",
    "# import glob\n",
    " \n",
    "# img_array = []\n",
    "# for filename in glob.glob('C:/New folder/Images/*.jpg'):\n",
    "#     img = cv2.imread(filename)\n",
    "#     height, width, layers = img.shape\n",
    "#     size = (width,height)\n",
    "#     img_array.append(img)\n",
    " \n",
    " \n",
    "# out = cv2.VideoWriter('project.avi',cv2.VideoWriter_fourcc(*'DIVX'), 15, size)\n",
    " \n",
    "# for i in range(len(img_array)):\n",
    "#     out.write(img_array[i])\n",
    "# out.release()"
   ]
  }
 ],
 "metadata": {
  "kernelspec": {
   "display_name": "Python (base)",
   "language": "python",
   "name": "base"
  },
  "language_info": {
   "codemirror_mode": {
    "name": "ipython",
    "version": 3
   },
   "file_extension": ".py",
   "mimetype": "text/x-python",
   "name": "python",
   "nbconvert_exporter": "python",
   "pygments_lexer": "ipython3",
   "version": "3.8.5"
  }
 },
 "nbformat": 4,
 "nbformat_minor": 5
}
