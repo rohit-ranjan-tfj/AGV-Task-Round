{
 "cells": [
  {
   "cell_type": "code",
   "execution_count": 1,
   "id": "important-mobility",
   "metadata": {},
   "outputs": [],
   "source": [
    "import math\n",
    "import numpy as np\n",
    "import cv2\n",
    "import matplotlib.pyplot as plt\n",
    "font = cv2.FONT_HERSHEY_TRIPLEX \n",
    "def save(image,name):\n",
    "    name=\"\"+str(name)+\".png\"\n",
    "    cv2.imwrite(name,image)\n",
    "#     output=Image.open(name)\n",
    "#     output.show() "
   ]
  },
  {
   "cell_type": "code",
   "execution_count": 2,
   "id": "ordered-algorithm",
   "metadata": {},
   "outputs": [],
   "source": [
    "camMatrix=np.array([[3.66206794e+03, 0.00000000e+00 ,2.36016846e+03],[0.00000000e+00 ,3.64830665e+03 ,1.75541647e+03],[0.00000000e+00 ,0.00000000e+00, 1.00000000e+00]] )\n",
    "camMatrix=np.int32(camMatrix)\n",
    "distCoeff= np.int32((3.86569304e-01 ,-3.21542701e+00 , 1.10216261e-03,  2.38288437e-03,7.52598101e+00))"
   ]
  },
  {
   "cell_type": "code",
   "execution_count": 3,
   "id": "certain-amount",
   "metadata": {},
   "outputs": [],
   "source": [
    "img = cv2.imread(\"1.jpg\")\n",
    "# plt.imshow(cv2.cvtColor(img,cv2.COLOR_BGR2RGB))"
   ]
  },
  {
   "cell_type": "code",
   "execution_count": 4,
   "id": "tough-point",
   "metadata": {},
   "outputs": [],
   "source": [
    "arucoDict = cv2.aruco.Dictionary_get(cv2.aruco.DICT_6X6_250)\n",
    "arucoParams = cv2.aruco.DetectorParameters_create()\n",
    "(corners, ids, rejected) = cv2.aruco.detectMarkers(img, arucoDict,parameters=arucoParams)"
   ]
  },
  {
   "cell_type": "code",
   "execution_count": 5,
   "id": "present-consent",
   "metadata": {},
   "outputs": [],
   "source": [
    "# iden=np.zeros_like(img)\n",
    "# cv2.aruco.drawDetectedMarkers(iden,corners,ids)\n",
    "# save(cv2.addWeighted(img,1,iden,1000,0),\"iden\")"
   ]
  },
  {
   "cell_type": "code",
   "execution_count": 6,
   "id": "hollywood-candy",
   "metadata": {},
   "outputs": [],
   "source": [
    "corners=np.int32(corners)"
   ]
  },
  {
   "cell_type": "code",
   "execution_count": 7,
   "id": "verbal-appendix",
   "metadata": {},
   "outputs": [],
   "source": [
    "(a,b),(c,d),(e,f),(g,h)=corners[0][0]"
   ]
  },
  {
   "cell_type": "code",
   "execution_count": 8,
   "id": "sensitive-worthy",
   "metadata": {},
   "outputs": [],
   "source": [
    "tl=(a,b)"
   ]
  },
  {
   "cell_type": "code",
   "execution_count": 9,
   "id": "prospective-patrick",
   "metadata": {},
   "outputs": [],
   "source": [
    "tr=(c,d)"
   ]
  },
  {
   "cell_type": "code",
   "execution_count": 10,
   "id": "missing-century",
   "metadata": {},
   "outputs": [],
   "source": [
    "br=(e,f)"
   ]
  },
  {
   "cell_type": "code",
   "execution_count": 11,
   "id": "sound-toronto",
   "metadata": {},
   "outputs": [],
   "source": [
    "bl=(g,h)"
   ]
  },
  {
   "cell_type": "code",
   "execution_count": 12,
   "id": "appointed-latter",
   "metadata": {},
   "outputs": [],
   "source": [
    "cv2.line(img, tl, tr, (0, 255, 0), 2)\n",
    "cv2.line(img, tr, br, (0, 255, 0), 2)\n",
    "cv2.line(img, br, bl, (0, 255, 0), 2)\n",
    "cv2.line(img, bl, tl, (0, 255, 0), 2)\n",
    "# save(img,\"identified\")\n",
    "rvecs,tvecs,_ = cv2.aruco.estimatePoseSingleMarkers(corners.astype(np.float32),14.3,camMatrix,distCoeff)"
   ]
  },
  {
   "cell_type": "code",
   "execution_count": 13,
   "id": "surprising-schema",
   "metadata": {},
   "outputs": [],
   "source": [
    "s1=(\"pitch = %f\"% rvecs[0][0][0])\n",
    "s2=(\"yaw = %f\"% rvecs[0][0][1])\n",
    "s3=(\"roll = %f\"% rvecs[0][0][2])\n",
    "s4=(\"height = %f\"% tvecs[0][0][2])\n",
    "s5=(\"distance = %f\"% math.sqrt(tvecs[0][0][2]**2+tvecs[0][0][1]**2+tvecs[0][0][0]**2 ))"
   ]
  },
  {
   "cell_type": "code",
   "execution_count": 14,
   "id": "interim-sitting",
   "metadata": {},
   "outputs": [],
   "source": [
    "for i in range(len(rvecs)):\n",
    "    rvec=rvecs[i]\n",
    "    cv2.aruco.drawAxis(img,camMatrix.astype(np.float32),distCoeff.astype(np.float32),rvec,tvecs[0].reshape((3,1)),15)\n",
    "cv2.putText(img, s1, (50,450), font, 3, (64,164,247), 6, cv2.LINE_4)\n",
    "cv2.putText(img, s2, (50,550), font, 3, (64,164,247), 6, cv2.LINE_4)\n",
    "cv2.putText(img, s3, (50,650), font, 3, (64,164,247), 6, cv2.LINE_4)\n",
    "cv2.putText(img, s4, (50,750), font, 3, (64,164,247), 6, cv2.LINE_4)\n",
    "cv2.putText(img, s5, (50,850), font, 3, (64,164,247), 6, cv2.LINE_4)\n",
    "save(img,\"pose\")"
   ]
  },
  {
   "cell_type": "code",
   "execution_count": 15,
   "id": "valuable-spank",
   "metadata": {},
   "outputs": [],
   "source": [
    "# print(\"pitch = \",rvecs[0][0][0])\n",
    "# print(\"yaw = \",rvecs[0][0][1])\n",
    "# print(\"roll = \",rvecs[0][0][2])\n",
    "# print(\"height = \",tvecs[0][0][2])\n",
    "# print(\"distance = \",math.sqrt(tvecs[0][0][2]**2+tvecs[0][0][1]**2+tvecs[0][0][0]**2 ))"
   ]
  }
 ],
 "metadata": {
  "kernelspec": {
   "display_name": "Python (base)",
   "language": "python",
   "name": "base"
  },
  "language_info": {
   "codemirror_mode": {
    "name": "ipython",
    "version": 3
   },
   "file_extension": ".py",
   "mimetype": "text/x-python",
   "name": "python",
   "nbconvert_exporter": "python",
   "pygments_lexer": "ipython3",
   "version": "3.8.5"
  }
 },
 "nbformat": 4,
 "nbformat_minor": 5
}
