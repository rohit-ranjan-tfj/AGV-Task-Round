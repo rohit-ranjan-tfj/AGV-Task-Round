{
 "cells": [
  {
   "cell_type": "code",
   "execution_count": 1,
   "id": "important-mobility",
   "metadata": {},
   "outputs": [],
   "source": [
    "import math\n",
    "import numpy as np\n",
    "import cv2\n",
    "import matplotlib.pyplot as plt\n",
    "font = cv2.FONT_HERSHEY_TRIPLEX \n",
    "def save(image,name):\n",
    "    name=\"\"+str(name)+\".png\"\n",
    "    cv2.imwrite(name,image)\n",
    "#     output=Image.open(name)\n",
    "#     output.show() "
   ]
  },
  {
   "cell_type": "code",
   "execution_count": 2,
   "id": "ordered-algorithm",
   "metadata": {},
   "outputs": [],
   "source": [
    "camMatrix=np.array([[3.66206794e+03, 0.00000000e+00 ,2.36016846e+03],[0.00000000e+00 ,3.64830665e+03 ,1.75541647e+03],[0.00000000e+00 ,0.00000000e+00, 1.00000000e+00]] )\n",
    "camMatrix=np.int32(camMatrix)\n",
    "distCoeff= np.int32((3.86569304e-01 ,-3.21542701e+00 , 1.10216261e-03,  2.38288437e-03,7.52598101e+00))"
   ]
  },
  {
   "cell_type": "code",
   "execution_count": 3,
   "id": "certain-amount",
   "metadata": {},
   "outputs": [],
   "source": [
    "img = cv2.imread(\"5.jpg\")\n",
    "# plt.imshow(cv2.cvtColor(img,cv2.COLOR_BGR2RGB))"
   ]
  },
  {
   "cell_type": "code",
   "execution_count": 4,
   "id": "tough-point",
   "metadata": {},
   "outputs": [],
   "source": [
    "arucoDict = cv2.aruco.Dictionary_get(cv2.aruco.DICT_6X6_250)\n",
    "arucoParams = cv2.aruco.DetectorParameters_create()\n",
    "(corners, ids, rejected) = cv2.aruco.detectMarkers(img, arucoDict,parameters=arucoParams)"
   ]
  },
  {
   "cell_type": "code",
   "execution_count": 5,
   "id": "present-consent",
   "metadata": {},
   "outputs": [],
   "source": [
    "# iden=np.zeros_like(img)\n",
    "# cv2.aruco.drawDetectedMarkers(iden,corners,ids)\n",
    "# save(cv2.addWeighted(img,1,iden,1000,0),\"iden\")"
   ]
  },
  {
   "cell_type": "code",
   "execution_count": 6,
   "id": "hollywood-candy",
   "metadata": {},
   "outputs": [],
   "source": [
    "corners=np.int32(corners)"
   ]
  },
  {
   "cell_type": "code",
   "execution_count": 7,
   "id": "verbal-appendix",
   "metadata": {},
   "outputs": [],
   "source": [
    "(a,b),(c,d),(e,f),(g,h)=corners[0][0]"
   ]
  },
  {
   "cell_type": "code",
   "execution_count": 8,
   "id": "sensitive-worthy",
   "metadata": {},
   "outputs": [],
   "source": [
    "tl=(a,b)"
   ]
  },
  {
   "cell_type": "code",
   "execution_count": 9,
   "id": "prospective-patrick",
   "metadata": {},
   "outputs": [],
   "source": [
    "tr=(c,d)"
   ]
  },
  {
   "cell_type": "code",
   "execution_count": 10,
   "id": "missing-century",
   "metadata": {},
   "outputs": [],
   "source": [
    "br=(e,f)"
   ]
  },
  {
   "cell_type": "code",
   "execution_count": 11,
   "id": "sound-toronto",
   "metadata": {},
   "outputs": [],
   "source": [
    "bl=(g,h)"
   ]
  },
  {
   "cell_type": "code",
   "execution_count": 12,
   "id": "appointed-latter",
   "metadata": {},
   "outputs": [],
   "source": [
    "cv2.line(img, tl, tr, (0, 255, 0), 2)\n",
    "cv2.line(img, tr, br, (0, 255, 0), 2)\n",
    "cv2.line(img, br, bl, (0, 255, 0), 2)\n",
    "cv2.line(img, bl, tl, (0, 255, 0), 2)\n",
    "# save(img,\"identified\")\n",
    "rvecs,tvecs,_ = cv2.aruco.estimatePoseSingleMarkers(corners.astype(np.float32),14.4,camMatrix,distCoeff)"
   ]
  },
  {
   "cell_type": "code",
   "execution_count": null,
   "id": "altered-arlington",
   "metadata": {},
   "outputs": [],
   "source": [
    "def eulerAngles(R):\n",
    "    PI=3.14\n",
    "    x1,y1,z1,x2,y2,z2=(0,0,0,0,0,0)\n",
    "    if(R[2,0]!=1 and R[2,0]!=-1):\n",
    "        y1=-1*math.asin(R[2,0])\n",
    "        y2=PI-y1\n",
    "        x1=math.atan2(R[2,1]/math.cos(y1),R[2,2]/math.cos(y1))\n",
    "        x2=math.atan2(R[2,1]/math.cos(y2),R[2,2]/math.cos(y2))\n",
    "        z1=math.atan2(R[1,0]/math.cos(y1),R[0,0]/math.cos(y1))\n",
    "        z2=math.atan2(R[1,0]/math.cos(y2),R[0,0]/math.cos(y2))\n",
    "    else:\n",
    "        z1=0;\n",
    "        if(R[2,0]==-1):\n",
    "            y1=PI/2\n",
    "            x1=z1+math.atan2(R[0,1],R[0,2])\n",
    "        else:\n",
    "            y1=-PI/2\n",
    "            x1=-z1+math.atan2(-R[0,1],-R[0,2])\n",
    "    return [x1,y1,z1,x2,y2,z2]"
   ]
  },
  {
   "cell_type": "code",
   "execution_count": 13,
   "id": "surprising-schema",
   "metadata": {},
   "outputs": [],
   "source": [
    "# s1=(\"pitch = %f\"% rvecs[0][0][0])\n",
    "# s2=(\"yaw = %f\"% rvecs[0][0][1])\n",
    "# s3=(\"roll = %f\"% rvecs[0][0][2])\n",
    "rotMatrix,_=cv2.Rodrigues(rvecs)\n",
    "E=eulerAngles(rotMatrix)\n",
    "s1=(\"pitch = %f,%f\"% (E[0],E[3]))\n",
    "s2=(\"yaw = %f,%f\"% (E[1],E[4]))\n",
    "s3=(\"roll = %f,%f\"% (E[2],E[5]))\n",
    "s4=(\"height = %f\"% tvecs[0][0][2])\n",
    "s5=(\"distance = %f\"% math.sqrt(tvecs[0][0][2]**2+tvecs[0][0][1]**2+tvecs[0][0][0]**2 ))"
   ]
  },
  {
   "cell_type": "code",
   "execution_count": 14,
   "id": "interim-sitting",
   "metadata": {},
   "outputs": [],
   "source": [
    "for i in range(len(rvecs)):\n",
    "    rvec=rvecs[i]\n",
    "    cv2.aruco.drawAxis(img,camMatrix.astype(np.float32),distCoeff.astype(np.float32),rvec,tvecs[0].reshape((3,1)),15)\n",
    "# cv2.putText(img, s1, (50,450), font, 3, (64,164,247), 6, cv2.LINE_4)\n",
    "# cv2.putText(img, s2, (50,550), font, 3, (64,164,247), 6, cv2.LINE_4)\n",
    "# cv2.putText(img, s3, (50,650), font, 3, (64,164,247), 6, cv2.LINE_4)\n",
    "# cv2.putText(img, s4, (50,750), font, 3, (64,164,247), 6, cv2.LINE_4)\n",
    "# cv2.putText(img, s5, (50,850), font, 3, (64,164,247), 6, cv2.LINE_4)\n",
    "# save(img,\"pose\")"
   ]
  },
  {
   "cell_type": "code",
   "execution_count": 15,
   "id": "valuable-spank",
   "metadata": {},
   "outputs": [],
   "source": [
    "# print(\"pitch = \",rvecs[0][0][0])\n",
    "# print(\"yaw = \",rvecs[0][0][1])\n",
    "# print(\"roll = \",rvecs[0][0][2])\n",
    "# print(\"height = \",tvecs[0][0][2])\n",
    "# print(\"distance = \",math.sqrt(tvecs[0][0][2]**2+tvecs[0][0][1]**2+tvecs[0][0][0]**2 ))"
   ]
  },
  {
   "cell_type": "code",
   "execution_count": 16,
   "id": "retired-ability",
   "metadata": {},
   "outputs": [],
   "source": [
    "x11=corners[0][0][0][0]\n",
    "x21=corners[0][0][1][0]\n",
    "x31=corners[0][0][2][0]\n",
    "x41=corners[0][0][3][0]\n",
    "y11=corners[0][0][0][1]\n",
    "y21=corners[0][0][1][1]\n",
    "y31=corners[0][0][2][1]\n",
    "y41=corners[0][0][3][1]"
   ]
  },
  {
   "cell_type": "code",
   "execution_count": 17,
   "id": "positive-legislation",
   "metadata": {},
   "outputs": [],
   "source": [
    "# x12=2297-1\n",
    "# x22=2311-1\n",
    "# x32=2311-1\n",
    "# x42=2297-1\n",
    "# y12=1721-1\n",
    "# y22=1721-1\n",
    "# y32=1735-1\n",
    "# y42=1735-1"
   ]
  },
  {
   "cell_type": "code",
   "execution_count": 18,
   "id": "smooth-glossary",
   "metadata": {},
   "outputs": [],
   "source": [
    "x12=2303-7.2*100\n",
    "x22=2303+7.2*100\n",
    "x32=2303+7.2*100\n",
    "x42=2303-7.2*100\n",
    "y12=1727+7.2*100\n",
    "y22=1727+7.2*100\n",
    "y32=1727-7.2*100\n",
    "y42=1727-7.2*100"
   ]
  },
  {
   "cell_type": "code",
   "execution_count": 19,
   "id": "found-syria",
   "metadata": {},
   "outputs": [],
   "source": [
    "A=np.zeros((9,9))\n",
    "A[0,:]=[x11,y11,1,0,0,0,0,0,0]\n",
    "A[1,:]=[0,0,0,x11,y11,1,0,0,0]\n",
    "A[2,:]=[0,0,0,0,0,0,x11,y11,1]\n",
    "A[3,:]=[x21,y21,1,0,0,0,0,0,0]\n",
    "A[4,:]=[0,0,0,x21,y21,1,0,0,0]\n",
    "A[5,:]=[0,0,0,0,0,0,x21,y21,1]\n",
    "A[6,:]=[x31,y31,1,0,0,0,0,0,0]\n",
    "A[7,:]=[0,0,0,x31,y31,1,0,0,0]\n",
    "A[8,:]=[0,0,0,0,0,0,x31,y31,1]"
   ]
  },
  {
   "cell_type": "code",
   "execution_count": 20,
   "id": "activated-wrestling",
   "metadata": {},
   "outputs": [],
   "source": [
    "B=np.zeros((1,9))\n",
    "B[0,0]=x12\n",
    "B[0,3]=x22\n",
    "B[0,6]=x32\n",
    "B[0,1]=y12\n",
    "B[0,4]=y22\n",
    "B[0,7]=y32\n",
    "B[0,2]=1\n",
    "B[0,5]=1\n",
    "B[0,8]=1\n",
    "B=np.transpose(B)"
   ]
  },
  {
   "cell_type": "code",
   "execution_count": 21,
   "id": "sixth-preliminary",
   "metadata": {},
   "outputs": [],
   "source": [
    "Hdash=np.dot((np.linalg.inv(A)),B)"
   ]
  },
  {
   "cell_type": "code",
   "execution_count": 22,
   "id": "chemical-winter",
   "metadata": {},
   "outputs": [],
   "source": [
    "H=np.zeros((3,3))\n",
    "H[0,:]=Hdash[:3,0]\n",
    "H[1,:]=Hdash[3:6,0]\n",
    "H[2,:]=Hdash[6:9,0]"
   ]
  },
  {
   "cell_type": "code",
   "execution_count": 23,
   "id": "shaped-council",
   "metadata": {},
   "outputs": [],
   "source": [
    "# new_img=np.zeros_like(img)\n",
    "# for x in range(img.shape[1]):\n",
    "#     for y in range(img.shape[0]):\n",
    "#         temp=np.dot(H,np.transpose(np.array([x,y,1])))\n",
    "#         a=np.clip(np.int32(temp[1]),0,3455)\n",
    "#         b=np.clip(np.int32(temp[0]),0,4607)\n",
    "#         new_img[a,b]=img[y,x]"
   ]
  },
  {
   "cell_type": "code",
   "execution_count": 24,
   "id": "attempted-baseline",
   "metadata": {},
   "outputs": [
    {
     "data": {
      "text/plain": [
       "(3456, 4608, 3)"
      ]
     },
     "execution_count": 24,
     "metadata": {},
     "output_type": "execute_result"
    }
   ],
   "source": [
    "img.shape"
   ]
  },
  {
   "cell_type": "code",
   "execution_count": 25,
   "id": "documented-crime",
   "metadata": {},
   "outputs": [],
   "source": [
    "temp=np.dot(H,np.transpose(np.array([1,1,1])))"
   ]
  },
  {
   "cell_type": "code",
   "execution_count": 26,
   "id": "efficient-daughter",
   "metadata": {},
   "outputs": [
    {
     "data": {
      "text/plain": [
       "array([ 1.20574297e+03, -4.83924061e+03,  1.00000000e+00])"
      ]
     },
     "execution_count": 26,
     "metadata": {},
     "output_type": "execute_result"
    }
   ],
   "source": [
    "temp"
   ]
  },
  {
   "cell_type": "code",
   "execution_count": 27,
   "id": "composed-michael",
   "metadata": {},
   "outputs": [],
   "source": [
    "b=np.int32(temp[0])"
   ]
  },
  {
   "cell_type": "code",
   "execution_count": 28,
   "id": "circular-phoenix",
   "metadata": {},
   "outputs": [
    {
     "data": {
      "text/plain": [
       "1205"
      ]
     },
     "execution_count": 28,
     "metadata": {},
     "output_type": "execute_result"
    }
   ],
   "source": [
    "b"
   ]
  },
  {
   "cell_type": "code",
   "execution_count": 29,
   "id": "undefined-performance",
   "metadata": {},
   "outputs": [],
   "source": [
    "# new_img=np.zeros_like(img)\n",
    "# for x in range(img.shape[1]):\n",
    "#     for y in range(img.shape[0]):\n",
    "#         temp=np.dot(H,np.transpose(np.array([x,y,1])))\n",
    "#         a=np.int32(temp[1])\n",
    "#         b=np.int32(temp[0])\n",
    "#         if( a>=0 and a<=3455 and b>=0 and b<=4607):\n",
    "#             new_img[a,b]=img[y,x]"
   ]
  },
  {
   "cell_type": "code",
   "execution_count": 30,
   "id": "worldwide-worth",
   "metadata": {},
   "outputs": [],
   "source": [
    "# save(new_img,\"11\")"
   ]
  },
  {
   "cell_type": "code",
   "execution_count": 31,
   "id": "protected-advancement",
   "metadata": {},
   "outputs": [],
   "source": [
    "# plt.imshow(cv2.cvtColor(new_img,cv2.COLOR_BGR2RGB))"
   ]
  },
  {
   "cell_type": "code",
   "execution_count": 32,
   "id": "lucky-external",
   "metadata": {},
   "outputs": [],
   "source": [
    "pts1 = np.float32([[x11,y11],[x21,y21],[x31,y31],[x41,y41]])\n",
    "pts2 = np.float32([[x12,y12],[x22,y22],[x32,y32],[x42,y42]])\n",
    "\n",
    "M = cv2.getPerspectiveTransform(pts1,pts2)\n",
    "\n",
    "dst = cv2.warpPerspective(img,M,(img.shape[0],img.shape[1]))\n",
    "save(dst,\"tv5\")"
   ]
  },
  {
   "cell_type": "code",
   "execution_count": null,
   "id": "surgical-river",
   "metadata": {},
   "outputs": [],
   "source": []
  }
 ],
 "metadata": {
  "kernelspec": {
   "display_name": "Python (base)",
   "language": "python",
   "name": "base"
  },
  "language_info": {
   "codemirror_mode": {
    "name": "ipython",
    "version": 3
   },
   "file_extension": ".py",
   "mimetype": "text/x-python",
   "name": "python",
   "nbconvert_exporter": "python",
   "pygments_lexer": "ipython3",
   "version": "3.8.5"
  }
 },
 "nbformat": 4,
 "nbformat_minor": 5
}
