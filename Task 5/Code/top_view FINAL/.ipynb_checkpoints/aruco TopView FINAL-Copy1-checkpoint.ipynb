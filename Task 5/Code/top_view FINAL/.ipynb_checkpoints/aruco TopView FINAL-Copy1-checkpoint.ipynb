{
 "cells": [
  {
   "cell_type": "code",
   "execution_count": 1,
   "id": "important-mobility",
   "metadata": {},
   "outputs": [],
   "source": [
    "import math\n",
    "import numpy as np\n",
    "import cv2\n",
    "import matplotlib.pyplot as plt\n",
    "font = cv2.FONT_HERSHEY_TRIPLEX \n",
    "def save(image,name):\n",
    "    name=\"\"+str(name)+\".png\"\n",
    "    cv2.imwrite(name,image)\n",
    "#     output=Image.open(name)\n",
    "#     output.show() "
   ]
  },
  {
   "cell_type": "code",
   "execution_count": 2,
   "id": "ordered-algorithm",
   "metadata": {},
   "outputs": [],
   "source": [
    "camMatrix=np.array([[3.66206794e+03, 0.00000000e+00 ,2.36016846e+03],[0.00000000e+00 ,3.64830665e+03 ,1.75541647e+03],[0.00000000e+00 ,0.00000000e+00, 1.00000000e+00]] )\n",
    "camMatrix=np.int32(camMatrix)\n",
    "distCoeff= np.int32((3.86569304e-01 ,-3.21542701e+00 , 1.10216261e-03,  2.38288437e-03,7.52598101e+00))"
   ]
  },
  {
   "cell_type": "code",
   "execution_count": 3,
   "id": "certain-amount",
   "metadata": {},
   "outputs": [],
   "source": [
    "img = cv2.imread(\"7.jpg\")\n",
    "# plt.imshow(cv2.cvtColor(img,cv2.COLOR_BGR2RGB))"
   ]
  },
  {
   "cell_type": "code",
   "execution_count": 4,
   "id": "tough-point",
   "metadata": {},
   "outputs": [],
   "source": [
    "arucoDict = cv2.aruco.Dictionary_get(cv2.aruco.DICT_6X6_250)\n",
    "arucoParams = cv2.aruco.DetectorParameters_create()\n",
    "(corners, ids, rejected) = cv2.aruco.detectMarkers(img, arucoDict,parameters=arucoParams)"
   ]
  },
  {
   "cell_type": "code",
   "execution_count": 5,
   "id": "present-consent",
   "metadata": {},
   "outputs": [],
   "source": [
    "# iden=np.zeros_like(img)\n",
    "# cv2.aruco.drawDetectedMarkers(iden,corners,ids)\n",
    "# save(cv2.addWeighted(img,1,iden,1000,0),\"iden\")"
   ]
  },
  {
   "cell_type": "code",
   "execution_count": 6,
   "id": "hollywood-candy",
   "metadata": {},
   "outputs": [],
   "source": [
    "corners=np.int32(corners)"
   ]
  },
  {
   "cell_type": "code",
   "execution_count": 7,
   "id": "verbal-appendix",
   "metadata": {},
   "outputs": [],
   "source": [
    "(a,b),(c,d),(e,f),(g,h)=corners[0][0]"
   ]
  },
  {
   "cell_type": "code",
   "execution_count": 8,
   "id": "sensitive-worthy",
   "metadata": {},
   "outputs": [],
   "source": [
    "tl=(a,b)"
   ]
  },
  {
   "cell_type": "code",
   "execution_count": 9,
   "id": "prospective-patrick",
   "metadata": {},
   "outputs": [],
   "source": [
    "tr=(c,d)"
   ]
  },
  {
   "cell_type": "code",
   "execution_count": 10,
   "id": "missing-century",
   "metadata": {},
   "outputs": [],
   "source": [
    "br=(e,f)"
   ]
  },
  {
   "cell_type": "code",
   "execution_count": 11,
   "id": "sound-toronto",
   "metadata": {},
   "outputs": [],
   "source": [
    "bl=(g,h)"
   ]
  },
  {
   "cell_type": "code",
   "execution_count": 12,
   "id": "appointed-latter",
   "metadata": {},
   "outputs": [],
   "source": [
    "# cv2.line(img, tl, tr, (0, 255, 0), 2)\n",
    "# cv2.line(img, tr, br, (0, 255, 0), 2)\n",
    "# cv2.line(img, br, bl, (0, 255, 0), 2)\n",
    "# cv2.line(img, bl, tl, (0, 255, 0), 2)\n",
    "# save(img,\"identified\")\n",
    "rvecs,tvecs,_ = cv2.aruco.estimatePoseSingleMarkers(corners.astype(np.float32),14.4,camMatrix,distCoeff)"
   ]
  },
  {
   "cell_type": "code",
   "execution_count": 13,
   "id": "expected-owner",
   "metadata": {},
   "outputs": [],
   "source": [
    "def eulerAngles(R):\n",
    "    PI=3.14\n",
    "    x1,y1,z1,x2,y2,z2=(0,0,0,0,0,0)\n",
    "    if(R[2,0]!=1 and R[2,0]!=-1):\n",
    "        y1=-1*math.asin(R[2,0])\n",
    "        y2=PI-y1\n",
    "        x1=math.atan2(R[2,1]/math.cos(y1),R[2,2]/math.cos(y1))\n",
    "        x2=math.atan2(R[2,1]/math.cos(y2),R[2,2]/math.cos(y2))\n",
    "        z1=math.atan2(R[1,0]/math.cos(y1),R[0,0]/math.cos(y1))\n",
    "        z2=math.atan2(R[1,0]/math.cos(y2),R[0,0]/math.cos(y2))\n",
    "    else:\n",
    "        z1=0;\n",
    "        if(R[2,0]==-1):\n",
    "            y1=PI/2\n",
    "            x1=z1+math.atan2(R[0,1],R[0,2])\n",
    "        else:\n",
    "            y1=-PI/2\n",
    "            x1=-z1+math.atan2(-R[0,1],-R[0,2])\n",
    "    return [x1,y1,z1,x2,y2,z2]"
   ]
  },
  {
   "cell_type": "code",
   "execution_count": 14,
   "id": "surprising-schema",
   "metadata": {},
   "outputs": [],
   "source": [
    "# s1=(\"pitch = %f\"% rvecs[0][0][0])\n",
    "# s2=(\"yaw = %f\"% rvecs[0][0][1])\n",
    "# s3=(\"roll = %f\"% rvecs[0][0][2])\n",
    "rotMatrix,_=cv2.Rodrigues(rvecs)\n",
    "E=eulerAngles(rotMatrix)\n",
    "s1=(\"pitch = %f,%f\"% (E[0],E[3]))\n",
    "s2=(\"yaw = %f,%f\"% (E[1],E[4]))\n",
    "s3=(\"roll = %f,%f\"% (E[2],E[5]))\n",
    "s4=(\"height = %f\"% tvecs[0][0][2])\n",
    "s5=(\"distance = %f\"% math.sqrt(tvecs[0][0][2]**2+tvecs[0][0][1]**2+tvecs[0][0][0]**2 ))"
   ]
  },
  {
   "cell_type": "code",
   "execution_count": 15,
   "id": "lucky-external",
   "metadata": {},
   "outputs": [],
   "source": [
    "ex1=np.zeros((3,3))\n",
    "ex1[:,:2]=rotMatrix[:,:2]\n",
    "ex1[:,2]=tvecs[0][0]\n",
    "# ex1"
   ]
  },
  {
   "cell_type": "code",
   "execution_count": 16,
   "id": "biological-gentleman",
   "metadata": {},
   "outputs": [],
   "source": [
    "ex2=np.zeros((3,3))\n",
    "iden=np.identity(3)\n",
    "ex2[:,:2]=iden[:,:2]\n",
    "ex2[:,2]=-tvecs[0][0]"
   ]
  },
  {
   "cell_type": "code",
   "execution_count": 17,
   "id": "smooth-absence",
   "metadata": {},
   "outputs": [],
   "source": [
    "F=np.dot(np.dot(np.dot(camMatrix,ex2),np.linalg.inv(ex1)),np.linalg.inv(camMatrix))"
   ]
  },
  {
   "cell_type": "code",
   "execution_count": 18,
   "id": "later-aviation",
   "metadata": {},
   "outputs": [],
   "source": [
    "im_dst =cv2.warpPerspective(img, F.astype(np.float32), (4607,3455))"
   ]
  },
  {
   "cell_type": "code",
   "execution_count": 19,
   "id": "declared-centre",
   "metadata": {},
   "outputs": [],
   "source": [
    "save(im_dst,\"tv7\")"
   ]
  },
  {
   "cell_type": "code",
   "execution_count": 20,
   "id": "minute-rapid",
   "metadata": {},
   "outputs": [],
   "source": [
    "# new_img=np.zeros_like(img)\n",
    "# for x in range(img.shape[1]):\n",
    "#     for y in range(img.shape[0]):\n",
    "#         temp=np.dot(F,np.transpose(np.array([x,y,1])))\n",
    "#         a=np.int32(temp[1])\n",
    "#         b=np.int32(temp[0])\n",
    "#         if( a>=0 and a<=3455 and b>=0 and b<=4607):\n",
    "#             new_img[a,b]=img[y,x]\n",
    "# save(new_img,\"112\")"
   ]
  }
 ],
 "metadata": {
  "kernelspec": {
   "display_name": "Python (base)",
   "language": "python",
   "name": "base"
  },
  "language_info": {
   "codemirror_mode": {
    "name": "ipython",
    "version": 3
   },
   "file_extension": ".py",
   "mimetype": "text/x-python",
   "name": "python",
   "nbconvert_exporter": "python",
   "pygments_lexer": "ipython3",
   "version": "3.8.5"
  }
 },
 "nbformat": 4,
 "nbformat_minor": 5
}
