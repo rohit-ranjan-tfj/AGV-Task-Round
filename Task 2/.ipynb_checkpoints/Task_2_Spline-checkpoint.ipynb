{
 "cells": [
  {
   "cell_type": "code",
   "execution_count": 1,
   "id": "complimentary-trout",
   "metadata": {},
   "outputs": [],
   "source": [
    "import numpy as np\n",
    "import math\n",
    "import scipy.integrate\n",
    "import matplotlib.pyplot as plt"
   ]
  },
  {
   "cell_type": "code",
   "execution_count": 2,
   "id": "fatty-puppy",
   "metadata": {},
   "outputs": [
    {
     "data": {
      "text/plain": [
       "array([[ -4. , -64. ],\n",
       "       [  0. ,   0. ],\n",
       "       [  2. ,   8. ],\n",
       "       [  2.5,   4. ],\n",
       "       [  3. ,  27. ]])"
      ]
     },
     "execution_count": 2,
     "metadata": {},
     "output_type": "execute_result"
    }
   ],
   "source": [
    "a= [(0,0),(2,8),(3,27),(-4,-64),(2.5,4)]\n",
    "a=sorted(a)\n",
    "f1=48\n",
    "f2=-24\n",
    "a=np.array(a)\n",
    "a"
   ]
  },
  {
   "cell_type": "code",
   "execution_count": 3,
   "id": "grateful-raleigh",
   "metadata": {},
   "outputs": [],
   "source": [
    "m=np.zeros(((len(a)-1)*4,(len(a)-1)*4))\n",
    "y=np.zeros((((len(a)-1)*4),1))"
   ]
  },
  {
   "cell_type": "code",
   "execution_count": 4,
   "id": "civic-envelope",
   "metadata": {},
   "outputs": [],
   "source": [
    "i=0\n",
    "c=0\n",
    "while i<((len(a)-1)*4):\n",
    "    cx=a[c][0]\n",
    "    cy=a[c][1]\n",
    "    m[i,i]=cx**3\n",
    "    m[i][i+1]=cx**2\n",
    "    m[i][i+2]=cx\n",
    "    m[i][i+3]=1\n",
    "    y[i][0]=cy\n",
    "    cx=a[c+1][0]\n",
    "    cy=a[c+1][1]\n",
    "    m[i+1][i]=cx**3\n",
    "    m[i+1][i+1]=cx**2\n",
    "    m[i+1][i+2]=cx\n",
    "    m[i+1][i+3]=1\n",
    "    y[i+1][0]=cy\n",
    "    i=i+4\n",
    "    c=c+1"
   ]
  },
  {
   "cell_type": "code",
   "execution_count": 5,
   "id": "racial-trigger",
   "metadata": {},
   "outputs": [],
   "source": [
    "m[2,0]=3*(a[0][0]**2)\n",
    "m[2,1]=2*a[0][0]\n",
    "m[2,2]=1\n",
    "m[3,0]=6*a[0][0]\n",
    "m[3,1]=2\n",
    "y[2,0]=f1\n",
    "y[3,0]=f2"
   ]
  },
  {
   "cell_type": "code",
   "execution_count": 6,
   "id": "relevant-float",
   "metadata": {},
   "outputs": [],
   "source": [
    "i=6\n",
    "c=1\n",
    "while i<((len(a)-1)*4):\n",
    "    cx=a[c][0]\n",
    "#     c1x=a[c-1][0]\n",
    "    m[i,i-2]=-3*(cx**2)\n",
    "    m[i,i-1]=-2*cx\n",
    "    m[i,i]=-1\n",
    "    m[i,i-6]=3*(cx**2)\n",
    "    m[i,i-5]=2*cx\n",
    "    m[i,i-4]=1\n",
    "    m[i+1,i-2]=-6*cx\n",
    "    m[i+1,i-1]=-2\n",
    "    m[i+1,i-6]=6*cx\n",
    "    m[i+1,i-5]=2\n",
    "    i=i+4\n",
    "    c=c+1\n",
    "    "
   ]
  },
  {
   "cell_type": "code",
   "execution_count": 7,
   "id": "conscious-heavy",
   "metadata": {},
   "outputs": [
    {
     "data": {
      "text/plain": [
       "array([[-64.   ,  16.   ,  -4.   ,   1.   ,   0.   ,   0.   ,   0.   ,\n",
       "          0.   ,   0.   ,   0.   ,   0.   ,   0.   ,   0.   ,   0.   ,\n",
       "          0.   ,   0.   ],\n",
       "       [  0.   ,   0.   ,   0.   ,   1.   ,   0.   ,   0.   ,   0.   ,\n",
       "          0.   ,   0.   ,   0.   ,   0.   ,   0.   ,   0.   ,   0.   ,\n",
       "          0.   ,   0.   ],\n",
       "       [ 48.   ,  -8.   ,   1.   ,   0.   ,   0.   ,   0.   ,   0.   ,\n",
       "          0.   ,   0.   ,   0.   ,   0.   ,   0.   ,   0.   ,   0.   ,\n",
       "          0.   ,   0.   ],\n",
       "       [-24.   ,   2.   ,   0.   ,   0.   ,   0.   ,   0.   ,   0.   ,\n",
       "          0.   ,   0.   ,   0.   ,   0.   ,   0.   ,   0.   ,   0.   ,\n",
       "          0.   ,   0.   ],\n",
       "       [  0.   ,   0.   ,   0.   ,   0.   ,   0.   ,   0.   ,   0.   ,\n",
       "          1.   ,   0.   ,   0.   ,   0.   ,   0.   ,   0.   ,   0.   ,\n",
       "          0.   ,   0.   ],\n",
       "       [  0.   ,   0.   ,   0.   ,   0.   ,   8.   ,   4.   ,   2.   ,\n",
       "          1.   ,   0.   ,   0.   ,   0.   ,   0.   ,   0.   ,   0.   ,\n",
       "          0.   ,   0.   ],\n",
       "       [  0.   ,   0.   ,   1.   ,   0.   ,  -0.   ,  -0.   ,  -1.   ,\n",
       "          0.   ,   0.   ,   0.   ,   0.   ,   0.   ,   0.   ,   0.   ,\n",
       "          0.   ,   0.   ],\n",
       "       [  0.   ,   2.   ,   0.   ,   0.   ,  -0.   ,  -2.   ,   0.   ,\n",
       "          0.   ,   0.   ,   0.   ,   0.   ,   0.   ,   0.   ,   0.   ,\n",
       "          0.   ,   0.   ],\n",
       "       [  0.   ,   0.   ,   0.   ,   0.   ,   0.   ,   0.   ,   0.   ,\n",
       "          0.   ,   8.   ,   4.   ,   2.   ,   1.   ,   0.   ,   0.   ,\n",
       "          0.   ,   0.   ],\n",
       "       [  0.   ,   0.   ,   0.   ,   0.   ,   0.   ,   0.   ,   0.   ,\n",
       "          0.   ,  15.625,   6.25 ,   2.5  ,   1.   ,   0.   ,   0.   ,\n",
       "          0.   ,   0.   ],\n",
       "       [  0.   ,   0.   ,   0.   ,   0.   ,  12.   ,   4.   ,   1.   ,\n",
       "          0.   , -12.   ,  -4.   ,  -1.   ,   0.   ,   0.   ,   0.   ,\n",
       "          0.   ,   0.   ],\n",
       "       [  0.   ,   0.   ,   0.   ,   0.   ,  12.   ,   2.   ,   0.   ,\n",
       "          0.   , -12.   ,  -2.   ,   0.   ,   0.   ,   0.   ,   0.   ,\n",
       "          0.   ,   0.   ],\n",
       "       [  0.   ,   0.   ,   0.   ,   0.   ,   0.   ,   0.   ,   0.   ,\n",
       "          0.   ,   0.   ,   0.   ,   0.   ,   0.   ,  15.625,   6.25 ,\n",
       "          2.5  ,   1.   ],\n",
       "       [  0.   ,   0.   ,   0.   ,   0.   ,   0.   ,   0.   ,   0.   ,\n",
       "          0.   ,   0.   ,   0.   ,   0.   ,   0.   ,  27.   ,   9.   ,\n",
       "          3.   ,   1.   ],\n",
       "       [  0.   ,   0.   ,   0.   ,   0.   ,   0.   ,   0.   ,   0.   ,\n",
       "          0.   ,  18.75 ,   5.   ,   1.   ,   0.   , -18.75 ,  -5.   ,\n",
       "         -1.   ,   0.   ],\n",
       "       [  0.   ,   0.   ,   0.   ,   0.   ,   0.   ,   0.   ,   0.   ,\n",
       "          0.   ,  15.   ,   2.   ,   0.   ,   0.   , -15.   ,  -2.   ,\n",
       "          0.   ,   0.   ]])"
      ]
     },
     "execution_count": 7,
     "metadata": {},
     "output_type": "execute_result"
    }
   ],
   "source": [
    "m"
   ]
  },
  {
   "cell_type": "code",
   "execution_count": 8,
   "id": "accomplished-forge",
   "metadata": {},
   "outputs": [],
   "source": [
    "curve=np.linalg.inv(m)"
   ]
  },
  {
   "cell_type": "code",
   "execution_count": 9,
   "id": "horizontal-jones",
   "metadata": {},
   "outputs": [],
   "source": [
    "curve= np.dot(curve,y)"
   ]
  },
  {
   "cell_type": "code",
   "execution_count": 10,
   "id": "biblical-fitness",
   "metadata": {},
   "outputs": [
    {
     "data": {
      "text/plain": [
       "array([[ 1.00000000e+00],\n",
       "       [-2.73558953e-13],\n",
       "       [-5.47117907e-13],\n",
       "       [ 0.00000000e+00],\n",
       "       [ 1.00000000e+00],\n",
       "       [-2.73558953e-13],\n",
       "       [-5.47117907e-13],\n",
       "       [ 0.00000000e+00],\n",
       "       [-9.20000000e+01],\n",
       "       [ 5.58000000e+02],\n",
       "       [-1.11600000e+03],\n",
       "       [ 7.44000000e+02],\n",
       "       [ 6.52000000e+02],\n",
       "       [-5.02200000e+03],\n",
       "       [ 1.28340000e+04],\n",
       "       [-1.08810000e+04]])"
      ]
     },
     "execution_count": 10,
     "metadata": {},
     "output_type": "execute_result"
    }
   ],
   "source": [
    "curve"
   ]
  },
  {
   "cell_type": "code",
   "execution_count": 11,
   "id": "conscious-italy",
   "metadata": {},
   "outputs": [
    {
     "data": {
      "image/png": "[encoded data removed]",
      "text/plain": [
       "<Figure size 432x288 with 1 Axes>"
      ]
     },
     "metadata": {
      "needs_background": "light"
     },
     "output_type": "display_data"
    }
   ],
   "source": [
    "fx=[]\n",
    "i=0\n",
    "c=0\n",
    "while i<(len(a)*4) and c<len(a)-1:\n",
    "    x=np.linspace(a[c][0],a[c+1][0],100)\n",
    "    for j in range(len(x)):\n",
    "        fx.append((x[j]**3)*curve[i][0] +(x[j]**2)*curve[i+1][0]+x[j]*curve[i+2][0]+curve[i+3][0])\n",
    "    i=i+4\n",
    "    c=c+1\n",
    "    plt.plot(x,fx)\n",
    "    plt.scatter(a[:,0],a[:,1])\n",
    "    plt.grid()\n",
    "    plt.axvline()\n",
    "    plt.axhline()\n",
    "    fx=[]"
   ]
  },
  {
   "cell_type": "code",
   "execution_count": 12,
   "id": "graduate-adolescent",
   "metadata": {},
   "outputs": [
    {
     "data": {
      "text/plain": [
       "<matplotlib.lines.Line2D at 0x7f76d7933a00>"
      ]
     },
     "execution_count": 12,
     "metadata": {},
     "output_type": "execute_result"
    },
    {
     "data": {
      "image/png": "[encoded data removed]",
      "text/plain": [
       "<Figure size 432x288 with 1 Axes>"
      ]
     },
     "metadata": {
      "needs_background": "light"
     },
     "output_type": "display_data"
    }
   ],
   "source": [
    "# plt.plot(x,fx)\n",
    "plt.scatter(a[:,0],a[:,1])\n",
    "plt.grid()\n",
    "plt.axvline()\n",
    "plt.axhline()"
   ]
  },
  {
   "cell_type": "code",
   "execution_count": null,
   "id": "responsible-origin",
   "metadata": {},
   "outputs": [],
   "source": []
  }
 ],
 "metadata": {
  "kernelspec": {
   "display_name": "Python (base)",
   "language": "python",
   "name": "base"
  },
  "language_info": {
   "codemirror_mode": {
    "name": "ipython",
    "version": 3
   },
   "file_extension": ".py",
   "mimetype": "text/x-python",
   "name": "python",
   "nbconvert_exporter": "python",
   "pygments_lexer": "ipython3",
   "version": "3.8.5"
  }
 },
 "nbformat": 4,
 "nbformat_minor": 5
}
