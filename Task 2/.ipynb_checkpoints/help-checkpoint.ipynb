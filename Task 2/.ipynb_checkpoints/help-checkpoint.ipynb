{
 "cells": [
  {
   "cell_type": "code",
   "execution_count": 1,
   "id": "imperial-ethics",
   "metadata": {},
   "outputs": [],
   "source": [
    "import numpy as np"
   ]
  },
  {
   "cell_type": "code",
   "execution_count": 2,
   "id": "confirmed-denial",
   "metadata": {},
   "outputs": [],
   "source": [
    "a= [(-1,2),(0,0),(1,-2),(2,0)]\n",
    "a=np.array(a)"
   ]
  },
  {
   "cell_type": "code",
   "execution_count": 3,
   "id": "brief-letters",
   "metadata": {},
   "outputs": [],
   "source": [
    "m=np.ones((4,4))\n",
    "y=a[:,1]"
   ]
  },
  {
   "cell_type": "code",
   "execution_count": 4,
   "id": "personal-duplicate",
   "metadata": {},
   "outputs": [],
   "source": [
    "for i in range(4):\n",
    "    for j in range(4):\n",
    "        m[i,j]=a[i,0]**(abs(3-j))"
   ]
  },
  {
   "cell_type": "code",
   "execution_count": 5,
   "id": "minor-certificate",
   "metadata": {},
   "outputs": [
    {
     "data": {
      "text/plain": [
       "array([[-1.,  1., -1.,  1.],\n",
       "       [ 0.,  0.,  0.,  1.],\n",
       "       [ 1.,  1.,  1.,  1.],\n",
       "       [ 8.,  4.,  2.,  1.]])"
      ]
     },
     "execution_count": 5,
     "metadata": {},
     "output_type": "execute_result"
    }
   ],
   "source": [
    "m"
   ]
  },
  {
   "cell_type": "code",
   "execution_count": 10,
   "id": "dominant-virus",
   "metadata": {},
   "outputs": [],
   "source": [
    "curve=np.linalg.inv(m)"
   ]
  },
  {
   "cell_type": "code",
   "execution_count": 11,
   "id": "banned-future",
   "metadata": {},
   "outputs": [],
   "source": [
    "curve= np.multiply(curve,y)"
   ]
  },
  {
   "cell_type": "code",
   "execution_count": 12,
   "id": "afraid-feedback",
   "metadata": {},
   "outputs": [
    {
     "data": {
      "text/plain": [
       "array([[-0.33333333,  0.        ,  1.        ,  0.        ],\n",
       "       [ 1.        , -0.        , -1.        ,  0.        ],\n",
       "       [-0.66666667, -0.        , -2.        , -0.        ],\n",
       "       [ 0.        ,  0.        , -0.        ,  0.        ]])"
      ]
     },
     "execution_count": 12,
     "metadata": {},
     "output_type": "execute_result"
    }
   ],
   "source": [
    "curve"
   ]
  },
  {
   "cell_type": "code",
   "execution_count": null,
   "id": "three-server",
   "metadata": {},
   "outputs": [],
   "source": []
  }
 ],
 "metadata": {
  "kernelspec": {
   "display_name": "Python (base)",
   "language": "python",
   "name": "base"
  },
  "language_info": {
   "codemirror_mode": {
    "name": "ipython",
    "version": 3
   },
   "file_extension": ".py",
   "mimetype": "text/x-python",
   "name": "python",
   "nbconvert_exporter": "python",
   "pygments_lexer": "ipython3",
   "version": "3.8.5"
  }
 },
 "nbformat": 4,
 "nbformat_minor": 5
}
