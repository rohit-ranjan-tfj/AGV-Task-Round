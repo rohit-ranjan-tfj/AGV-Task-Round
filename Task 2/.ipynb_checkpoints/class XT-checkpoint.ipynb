{
 "cells": [
  {
   "cell_type": "code",
   "execution_count": 1,
   "id": "detailed-deadline",
   "metadata": {},
   "outputs": [],
   "source": [
    "import numpy as np\n",
    "import math\n",
    "import matplotlib.pyplot as plt"
   ]
  },
  {
   "cell_type": "code",
   "execution_count": 2,
   "id": "irish-hearing",
   "metadata": {},
   "outputs": [],
   "source": [
    "class Poly5:\n",
    "    def __init__(self,data):\n",
    "        self.x1,self.v1,self.a1,self.x2,self.v2,self.a2,self.t = data\n",
    "        m=np.zeros((6,6))\n",
    "        y=np.zeros((6,1))\n",
    "        m[0]=[(self.x1)**5,(self.x1)**4,(self.x1)**3,(self.x1)**2,(self.x1)**1,(self.x1)**0]\n",
    "        m[1]=[(self.x2)**5,(self.x2)**4,(self.x2)**3,(self.x2)**2,(self.x2)**1,(self.x2)**0]\n",
    "        y[1][0]=self.t\n",
    "        m[2]=[5*(self.x1)**4,4*(self.x1)**3,3*(self.x1)**2,2*(self.x1)**1,(self.x1)**0,0]\n",
    "        m[3]=[5*(self.x2)**4,4*(self.x2)**3,3*(self.x2)**2,2*(self.x2)**1,(self.x2)**0,0]\n",
    "        y[2][0]=self.v1\n",
    "        y[3][0]=self.v2\n",
    "        m[4]=[20*(self.x1)**3,12*(self.x1)**2,6*(self.x1)**1,2,0,0]\n",
    "        m[5]=[20*(self.x2)**3,12*(self.x2)**2,6*(self.x2)**1,2,0,0]\n",
    "        y[4][0]=self.a1\n",
    "        y[5][0]=self.a2\n",
    "        curve=np.linalg.inv(m)\n",
    "        curve=np.dot(curve,y)\n",
    "        self.e5,self.e4,self.e3,self.e2,self.e1,self.e0 = curve\n",
    "    \n",
    "    def f(self,x):\n",
    "        return self.e5*(x**5)+self.e4*(x**4)+self.e3*(x**3)+self.e2*(x**2)+self.e1*x + self.e0    \n",
    "    def der1(self,x):\n",
    "        return 5*self.e5*(x**4)+4*self.e4*(x**3)+3*self.e3*(x**2)+2*self.e2*x+self.e1\n",
    "    def der2(self,x):\n",
    "        return 20*self.e5*(x**3)+12*self.e4*(x**2)+6*self.e3*x+2*self.e2\n",
    "    def der3(self,x):\n",
    "        return 60*self.e5*(x**2)+24*self.e4*x+6*self.e3\n",
    "    def der4(self,x):\n",
    "        return 120*self.e5*x+24*self.e4\n",
    "    def der5(self,x):\n",
    "        return 120*self.e5\n",
    "    \n",
    "    "
   ]
  },
  {
   "cell_type": "code",
   "execution_count": 3,
   "id": "wired-packing",
   "metadata": {},
   "outputs": [],
   "source": [
    "p=Poly5([1,2,3,4,5,6,7])"
   ]
  },
  {
   "cell_type": "code",
   "execution_count": 4,
   "id": "accessory-bulletin",
   "metadata": {},
   "outputs": [
    {
     "data": {
      "text/plain": [
       "7"
      ]
     },
     "execution_count": 4,
     "metadata": {},
     "output_type": "execute_result"
    }
   ],
   "source": [
    "p.t\n"
   ]
  },
  {
   "cell_type": "code",
   "execution_count": 5,
   "id": "minimal-rebound",
   "metadata": {},
   "outputs": [
    {
     "data": {
      "text/plain": [
       "array([-0.0308642])"
      ]
     },
     "execution_count": 5,
     "metadata": {},
     "output_type": "execute_result"
    }
   ],
   "source": [
    "p.e5"
   ]
  },
  {
   "cell_type": "code",
   "execution_count": 6,
   "id": "integrated-primary",
   "metadata": {},
   "outputs": [
    {
     "data": {
      "text/plain": [
       "<matplotlib.lines.Line2D at 0x7fe016dd88e0>"
      ]
     },
     "execution_count": 6,
     "metadata": {},
     "output_type": "execute_result"
    },
    {
     "data": {
      "image/png": "[encoded data removed]",
      "text/plain": [
       "<Figure size 432x288 with 1 Axes>"
      ]
     },
     "metadata": {
      "needs_background": "light"
     },
     "output_type": "display_data"
    }
   ],
   "source": [
    "fx=[]\n",
    "i=0\n",
    "x=np.linspace(p.x1,p.x2,100)\n",
    "for j in range(len(x)):\n",
    "    fx.append((x[j]**5)*p.e5 +(x[j]**4)*p.e4 +(x[j]**3)*p.e3 +(x[j]**2)*p.e2 +(x[j]**1)*p.e1 +p.e0)\n",
    "\n",
    "plt.plot(fx,x)\n",
    "plt.scatter(0,p.x1)\n",
    "plt.scatter(p.t,p.x2)\n",
    "plt.grid()\n",
    "plt.axvline()\n",
    "plt.axhline()\n"
   ]
  },
  {
   "cell_type": "code",
   "execution_count": 10,
   "id": "correct-working",
   "metadata": {},
   "outputs": [
    {
     "data": {
      "text/plain": [
       "array([7.])"
      ]
     },
     "execution_count": 10,
     "metadata": {},
     "output_type": "execute_result"
    }
   ],
   "source": [
    "p.f(4)"
   ]
  },
  {
   "cell_type": "code",
   "execution_count": null,
   "id": "portable-authority",
   "metadata": {},
   "outputs": [],
   "source": []
  }
 ],
 "metadata": {
  "kernelspec": {
   "display_name": "Python (base)",
   "language": "python",
   "name": "base"
  },
  "language_info": {
   "codemirror_mode": {
    "name": "ipython",
    "version": 3
   },
   "file_extension": ".py",
   "mimetype": "text/x-python",
   "name": "python",
   "nbconvert_exporter": "python",
   "pygments_lexer": "ipython3",
   "version": "3.8.5"
  }
 },
 "nbformat": 4,
 "nbformat_minor": 5
}
