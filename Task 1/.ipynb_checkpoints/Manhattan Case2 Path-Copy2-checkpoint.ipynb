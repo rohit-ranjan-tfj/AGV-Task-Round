{
 "cells": [
  {
   "cell_type": "code",
   "execution_count": 1,
   "id": "warming-divide",
   "metadata": {},
   "outputs": [
    {
     "ename": "FileNotFoundError",
     "evalue": "[Errno 2] No such file or directory: 'Task_1_Low.png'",
     "output_type": "error",
     "traceback": [
      "\u001b[0;31m---------------------------------------------------------------------------\u001b[0m",
      "\u001b[0;31mFileNotFoundError\u001b[0m                         Traceback (most recent call last)",
      "\u001b[0;32m<ipython-input-1-9b7512e18a11>\u001b[0m in \u001b[0;36m<module>\u001b[0;34m\u001b[0m\n\u001b[1;32m      3\u001b[0m \u001b[0;32mfrom\u001b[0m \u001b[0mPIL\u001b[0m \u001b[0;32mimport\u001b[0m \u001b[0mImage\u001b[0m\u001b[0;34m\u001b[0m\u001b[0;34m\u001b[0m\u001b[0m\n\u001b[1;32m      4\u001b[0m \u001b[0;32mimport\u001b[0m \u001b[0mnumpy\u001b[0m \u001b[0;32mas\u001b[0m \u001b[0mnp\u001b[0m\u001b[0;34m\u001b[0m\u001b[0;34m\u001b[0m\u001b[0m\n\u001b[0;32m----> 5\u001b[0;31m \u001b[0mim\u001b[0m \u001b[0;34m=\u001b[0m \u001b[0mImage\u001b[0m\u001b[0;34m.\u001b[0m\u001b[0mopen\u001b[0m\u001b[0;34m(\u001b[0m\u001b[0;34m\"Task_1_Low.png\"\u001b[0m\u001b[0;34m)\u001b[0m\u001b[0;34m\u001b[0m\u001b[0;34m\u001b[0m\u001b[0m\n\u001b[0m\u001b[1;32m      6\u001b[0m \u001b[0mnp_im\u001b[0m \u001b[0;34m=\u001b[0m \u001b[0mnp\u001b[0m\u001b[0;34m.\u001b[0m\u001b[0marray\u001b[0m\u001b[0;34m(\u001b[0m\u001b[0mim\u001b[0m\u001b[0;34m)\u001b[0m\u001b[0;34m\u001b[0m\u001b[0;34m\u001b[0m\u001b[0m\n\u001b[1;32m      7\u001b[0m \u001b[0mwidth\u001b[0m\u001b[0;34m,\u001b[0m\u001b[0mheight\u001b[0m \u001b[0;34m=\u001b[0m \u001b[0mim\u001b[0m\u001b[0;34m.\u001b[0m\u001b[0msize\u001b[0m\u001b[0;34m\u001b[0m\u001b[0;34m\u001b[0m\u001b[0m\n",
      "\u001b[0;32m~/miniconda/lib/python3.8/site-packages/PIL/Image.py\u001b[0m in \u001b[0;36mopen\u001b[0;34m(fp, mode, formats)\u001b[0m\n\u001b[1;32m   2902\u001b[0m \u001b[0;34m\u001b[0m\u001b[0m\n\u001b[1;32m   2903\u001b[0m     \u001b[0;32mif\u001b[0m \u001b[0mfilename\u001b[0m\u001b[0;34m:\u001b[0m\u001b[0;34m\u001b[0m\u001b[0;34m\u001b[0m\u001b[0m\n\u001b[0;32m-> 2904\u001b[0;31m         \u001b[0mfp\u001b[0m \u001b[0;34m=\u001b[0m \u001b[0mbuiltins\u001b[0m\u001b[0;34m.\u001b[0m\u001b[0mopen\u001b[0m\u001b[0;34m(\u001b[0m\u001b[0mfilename\u001b[0m\u001b[0;34m,\u001b[0m \u001b[0;34m\"rb\"\u001b[0m\u001b[0;34m)\u001b[0m\u001b[0;34m\u001b[0m\u001b[0;34m\u001b[0m\u001b[0m\n\u001b[0m\u001b[1;32m   2905\u001b[0m         \u001b[0mexclusive_fp\u001b[0m \u001b[0;34m=\u001b[0m \u001b[0;32mTrue\u001b[0m\u001b[0;34m\u001b[0m\u001b[0;34m\u001b[0m\u001b[0m\n\u001b[1;32m   2906\u001b[0m \u001b[0;34m\u001b[0m\u001b[0m\n",
      "\u001b[0;31mFileNotFoundError\u001b[0m: [Errno 2] No such file or directory: 'Task_1_Low.png'"
     ]
    }
   ],
   "source": [
    "import math\n",
    "import time\n",
    "from PIL import Image\n",
    "import numpy as np\n",
    "im = Image.open(\"Task_1_Low.png\")\n",
    "np_im = np.array(im)\n",
    "width,height = im.size"
   ]
  },
  {
   "cell_type": "code",
   "execution_count": null,
   "id": "tropical-cloud",
   "metadata": {},
   "outputs": [],
   "source": [
    "def find_start():\n",
    "    for x in range(height):\n",
    "        for y in range(width):\n",
    "            a,b,c=np_im[x,y]\n",
    "            if((a,b,c)==(45,204,113)):\n",
    "                return x,y"
   ]
  },
  {
   "cell_type": "code",
   "execution_count": null,
   "id": "continent-commander",
   "metadata": {},
   "outputs": [],
   "source": [
    "def find_end():\n",
    "    for x in range(height):\n",
    "        for y in range(width):\n",
    "            a,b,c=np_im[x,y]\n",
    "            if((a,b,c)==(231,76,60)):\n",
    "                return x,y"
   ]
  },
  {
   "cell_type": "code",
   "execution_count": null,
   "id": "satisfactory-transcript",
   "metadata": {},
   "outputs": [],
   "source": [
    "def min_index(list,arr):\n",
    "    min = arr[list[0]]\n",
    "    mini = 0\n",
    "    for i in range(len(list)):\n",
    "        if arr[list[i]]<=min:\n",
    "            min=arr[list[i]]\n",
    "            mini=i\n",
    "    return mini"
   ]
  },
  {
   "cell_type": "code",
   "execution_count": null,
   "id": "cordless-episode",
   "metadata": {},
   "outputs": [],
   "source": [
    "def h(mode,x,y):\n",
    "    if(mode=='m'):\n",
    "        return abs(p-x) + abs(q-y)\n",
    "    if(mode=='e'):\n",
    "        return math.sqrt(abs(p-x)**2 + abs(q-y)**2)\n",
    "    if(mode=='dg'):\n",
    "        return abs(p-x) + abs(q-y) -1*(2-1.4)* min(abs(p-x),abs(q-y))"
   ]
  },
  {
   "cell_type": "code",
   "execution_count": null,
   "id": "capable-condition",
   "metadata": {},
   "outputs": [],
   "source": [
    "def fgh(mode):\n",
    "    if(mode=='dik'):\n",
    "        arr=dist\n",
    "    else:\n",
    "        arr=f\n",
    "    while len(open):\n",
    "#     print(open)\n",
    "        min_in=min_index(open,arr)\n",
    "        c_x,c_y = open[min_in]\n",
    "        open.pop(min_in)\n",
    "        if (c_x+1)<height:\n",
    "            a,b,c=np_im[c_x+1,c_y]\n",
    "            if (dist[c_x+1,c_y]>dist[c_x,c_y]+1) and ((a,b,c)!=(255,255,255)):\n",
    "                dist[c_x+1,c_y]=dist[c_x,c_y]+1\n",
    "                arr[c_x+1,c_y]=dist[c_x+1,c_y] +h(mode,c_x+1,c_y)\n",
    "                open.append((c_x+1,c_y))\n",
    "                parent[c_x+1,c_y]=1\n",
    "                np_im[c_x+1,c_y]=(255,0,0)\n",
    "            if (a,b,c)==(231,76,60):\n",
    "                break\n",
    "        if (c_x-1)>=0:\n",
    "            a,b,c=np_im[c_x-1,c_y]\n",
    "            if (dist[c_x-1,c_y]>dist[c_x,c_y]+1) and ((a,b,c)!=(255,255,255)):\n",
    "                dist[c_x-1,c_y]=dist[c_x,c_y]+1\n",
    "                arr[c_x-1,c_y]=dist[c_x-1,c_y] +h(mode,c_x-1,c_y)\n",
    "                open.append((c_x-1,c_y))\n",
    "                parent[c_x-1,c_y]=3\n",
    "                np_im[c_x-1,c_y]=(255,0,0)\n",
    "            if (a,b,c)==(231,76,60):\n",
    "                break\n",
    "        if (c_y+1)<width:\n",
    "            a,b,c=np_im[c_x,c_y+1]\n",
    "            if (dist[c_x,c_y+1]>dist[c_x,c_y]+1) and ((a,b,c)!=(255,255,255)):\n",
    "                dist[c_x,c_y+1]=dist[c_x,c_y]+1\n",
    "                arr[c_x,c_y+1]=dist[c_x,c_y+1] +h(mode,c_x,c_y+1)\n",
    "                open.append((c_x,c_y+1))\n",
    "                parent[c_x,c_y+1]=4\n",
    "                np_im[c_x,c_y+1]=(255,0,0)\n",
    "            if (a,b,c)==(231,76,60):\n",
    "                break\n",
    "        if (c_y-1)>=0:\n",
    "            a,b,c=np_im[c_x,c_y-1]\n",
    "            if (dist[c_x,c_y-1]>dist[c_x,c_y]+1) and ((a,b,c)!=(255,255,255)):\n",
    "                dist[c_x,c_y-1]=dist[c_x,c_y]+1\n",
    "                arr[c_x,c_y-1]=dist[c_x,c_y-1] +h(mode,c_x,c_y-1)\n",
    "                open.append((c_x,c_y-1))\n",
    "                parent[c_x,c_y-1]=2\n",
    "                np_im[c_x,c_y-1]=(255,0,0)\n",
    "            if (a,b,c)==(231,76,60):\n",
    "                break\n",
    "        if (c_x+1)<height and (c_y +1)<width:\n",
    "            a,b,c=np_im[c_x+1,c_y+1]\n",
    "            if (dist[c_x+1,c_y+1]>dist[c_x,c_y]+1.4) and ((a,b,c)!=(255,255,255)):\n",
    "                dist[c_x+1,c_y+1]=dist[c_x,c_y]+1.4\n",
    "                arr[c_x+1,c_y+1]=dist[c_x+1,c_y+1] +h(mode,c_x+1,c_y+1)\n",
    "                open.append((c_x+1,c_y+1))\n",
    "                parent[c_x+1,c_y+1]=8\n",
    "                np_im[c_x+1,c_y+1]=(255,0,0)\n",
    "            if (a,b,c)==(231,76,60):\n",
    "                break\n",
    "        if (c_x+1)<height and (c_y -1)>=0:\n",
    "            a,b,c=np_im[c_x+1,c_y-1]\n",
    "            if (dist[c_x+1,c_y-1]>dist[c_x,c_y]+1.4) and ((a,b,c)!=(255,255,255)):\n",
    "                dist[c_x+1,c_y-1]=dist[c_x,c_y]+1.4\n",
    "                arr[c_x+1,c_y-1]=dist[c_x+1,c_y-1] +h(mode,c_x+1,c_y-1)\n",
    "                open.append((c_x+1,c_y-1))\n",
    "                parent[c_x+1,c_y-1]=5\n",
    "                np_im[c_x+1,c_y-1]=(255,0,0)\n",
    "            if (a,b,c)==(231,76,60):\n",
    "                break\n",
    "        if (c_x-1)>=0 and (c_y +1)<width:\n",
    "            a,b,c=np_im[c_x-1,c_y+1]\n",
    "            if (dist[c_x-1,c_y+1]>dist[c_x,c_y]+1.4) and ((a,b,c)!=(255,255,255)):\n",
    "                dist[c_x-1,c_y+1]=dist[c_x,c_y]+1.4\n",
    "                arr[c_x-1,c_y+1]=dist[c_x-1,c_y+1] +h(mode,c_x-1,c_y+1)\n",
    "                open.append((c_x-1,c_y+1))\n",
    "                parent[c_x-1,c_y+1]=7\n",
    "                np_im[c_x-1,c_y+1]=(255,0,0)\n",
    "            if (a,b,c)==(231,76,60):\n",
    "                break\n",
    "        if (c_x-1)>=0 and (c_y -1)>=0:\n",
    "            a,b,c=np_im[c_x-1,c_y-1]\n",
    "            if (dist[c_x-1,c_y-1]>dist[c_x,c_y]+1.4) and ((a,b,c)!=(255,255,255)):\n",
    "                dist[c_x-1,c_y-1]=dist[c_x,c_y]+1.4\n",
    "                arr[c_x-1,c_y-1]=dist[c_x-1,c_y-1] +h(mode,c_x-1,c_y-1)\n",
    "                open.append((c_x-1,c_y-1))\n",
    "                parent[c_x-1,c_y-1]=6\n",
    "                np_im[c_x-1,c_y-1]=(255,0,0)\n",
    "            if (a,b,c)==(231,76,60):\n",
    "                break\n",
    "#     new_im = Image.fromarray(np_im)\n",
    "#     new_im.show()\n",
    "    "
   ]
  },
  {
   "cell_type": "code",
   "execution_count": null,
   "id": "willing-there",
   "metadata": {},
   "outputs": [],
   "source": [
    "def path(a,b):\n",
    "    while 1:\n",
    "        x,y,z = np_im[a,b]\n",
    "        if (x,y,z) ==(45,204,113):\n",
    "            break\n",
    "        np_im[a,b]=(0,255,0)\n",
    "        if(parent[a,b]==1):\n",
    "            a=a-1\n",
    "        elif (parent[a,b]==2):\n",
    "            b=b+1\n",
    "        elif (parent[a,b]==3):\n",
    "            a=a+1\n",
    "        elif (parent[a,b]==4):\n",
    "            b=b-1\n",
    "        elif (parent[a,b]==5):\n",
    "            a=a-1\n",
    "            b=b+1\n",
    "        elif (parent[a,b]==6):\n",
    "            a=a+1\n",
    "            b=b+1\n",
    "        elif (parent[a,b]==7):\n",
    "            a=a+1\n",
    "            b=b-1\n",
    "        elif (parent[a,b]==8):\n",
    "            a=a-1\n",
    "            b=b-1\n",
    "        "
   ]
  },
  {
   "cell_type": "code",
   "execution_count": null,
   "id": "geographic-guide",
   "metadata": {},
   "outputs": [],
   "source": [
    "x,y=find_start()\n",
    "p,q=find_end()\n",
    "parent = np.zeros((height,width))\n",
    "dist = np.ones((height,width))*10000000\n",
    "f = np.ones((height,width))*10000000\n",
    "dist[x,y]=0\n",
    "f[x,y]=0\n",
    "open = [(x,y)]"
   ]
  },
  {
   "cell_type": "code",
   "execution_count": null,
   "id": "suffering-position",
   "metadata": {},
   "outputs": [],
   "source": [
    "start= time.time()\n",
    "fgh('e')\n",
    "path(p,q)"
   ]
  },
  {
   "cell_type": "code",
   "execution_count": null,
   "id": "configured-surgery",
   "metadata": {},
   "outputs": [],
   "source": [
    "end=time.time()\n",
    "s= end-start\n",
    "print(\"Time=\",s)\n",
    "print(\"Cost=\",dist[p,q])"
   ]
  },
  {
   "cell_type": "code",
   "execution_count": null,
   "id": "sunset-weekly",
   "metadata": {},
   "outputs": [],
   "source": [
    "new_im = Image.fromarray(np_im)\n",
    "new_im.show()\n",
    "new_im.save(\"m.png\")"
   ]
  },
  {
   "cell_type": "code",
   "execution_count": null,
   "id": "incomplete-excess",
   "metadata": {},
   "outputs": [],
   "source": [
    "c = Image.open(\"m.png\")\n",
    "d = c.resize((1000,1000), resample=Image.BOX)\n",
    "d.save(\"mHigh.png\")"
   ]
  }
 ],
 "metadata": {
  "kernelspec": {
   "display_name": "Python (base)",
   "language": "python",
   "name": "base"
  },
  "language_info": {
   "codemirror_mode": {
    "name": "ipython",
    "version": 3
   },
   "file_extension": ".py",
   "mimetype": "text/x-python",
   "name": "python",
   "nbconvert_exporter": "python",
   "pygments_lexer": "ipython3",
   "version": "3.8.5"
  }
 },
 "nbformat": 4,
 "nbformat_minor": 5
}
