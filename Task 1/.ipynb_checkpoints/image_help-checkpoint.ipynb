{
 "cells": [
  {
   "cell_type": "code",
   "execution_count": 1,
   "id": "lesbian-marshall",
   "metadata": {},
   "outputs": [
    {
     "name": "stdout",
     "output_type": "stream",
     "text": [
      "[  0 120 255]\n",
      "(1000, 1000, 3)\n"
     ]
    },
    {
     "data": {
      "text/plain": [
       "array([  0,   0, 127], dtype=uint8)"
      ]
     },
     "execution_count": 1,
     "metadata": {},
     "output_type": "execute_result"
    }
   ],
   "source": [
    "from PIL import Image\n",
    "import numpy\n",
    "im = Image.open(\"Task_1_Result.png\")\n",
    "np_im = numpy.array(im)\n",
    "print(np_im[820,960])\n",
    "print (np_im.shape)\n",
    "np_im[40,70]"
   ]
  },
  {
   "cell_type": "code",
   "execution_count": 2,
   "id": "wound-chapter",
   "metadata": {},
   "outputs": [],
   "source": [
    "def find_start():\n",
    "    c=0\n",
    "    for x in range(1000):\n",
    "        for y in range(1000):\n",
    "            a,b,c=np_im[x,y]\n",
    "            if((a,b,c)==(0,0,0)):\n",
    "                c =c+1\n",
    "    return c"
   ]
  },
  {
   "cell_type": "code",
   "execution_count": 3,
   "id": "incorporated-italian",
   "metadata": {},
   "outputs": [
    {
     "data": {
      "text/plain": [
       "1"
      ]
     },
     "execution_count": 3,
     "metadata": {},
     "output_type": "execute_result"
    }
   ],
   "source": [
    "find_start()"
   ]
  },
  {
   "cell_type": "code",
   "execution_count": 11,
   "id": "latest-fantasy",
   "metadata": {},
   "outputs": [
    {
     "ename": "NameError",
     "evalue": "name 'c' is not defined",
     "output_type": "error",
     "traceback": [
      "\u001b[0;31m---------------------------------------------------------------------------\u001b[0m",
      "\u001b[0;31mNameError\u001b[0m                                 Traceback (most recent call last)",
      "\u001b[0;32m<ipython-input-11-2b66fd261ee5>\u001b[0m in \u001b[0;36m<module>\u001b[0;34m\u001b[0m\n\u001b[0;32m----> 1\u001b[0;31m \u001b[0mc\u001b[0m\u001b[0;34m\u001b[0m\u001b[0;34m\u001b[0m\u001b[0m\n\u001b[0m",
      "\u001b[0;31mNameError\u001b[0m: name 'c' is not defined"
     ]
    }
   ],
   "source": [
    "c"
   ]
  },
  {
   "cell_type": "code",
   "execution_count": 1,
   "id": "planned-legislation",
   "metadata": {},
   "outputs": [],
   "source": [
    "from PIL import Image\n",
    "\n",
    "basewidth = 1000\n",
    "img = Image.open('Dijsktra Case1 Path.png')\n",
    "wpercent = (basewidth / float(img.size[0]))\n",
    "hsize = int((float(img.size[1]) * float(wpercent)))\n",
    "img = img.resize((basewidth, hsize), Image.ANTIALIAS)\n",
    "img.save('Dijsktra Case1 Path High.png')"
   ]
  },
  {
   "cell_type": "code",
   "execution_count": 3,
   "id": "drawn-training",
   "metadata": {},
   "outputs": [],
   "source": [
    "img = Image.open('Task_1_Result_Low.png')"
   ]
  },
  {
   "cell_type": "code",
   "execution_count": 5,
   "id": "vital-turkish",
   "metadata": {},
   "outputs": [],
   "source": [
    "import numpy\n",
    "np_im = numpy.array(img)"
   ]
  },
  {
   "cell_type": "code",
   "execution_count": 6,
   "id": "productive-carroll",
   "metadata": {},
   "outputs": [
    {
     "data": {
      "text/plain": [
       "array([255, 229, 202], dtype=uint8)"
      ]
     },
     "execution_count": 6,
     "metadata": {},
     "output_type": "execute_result"
    }
   ],
   "source": [
    "np_im[1,12]"
   ]
  },
  {
   "cell_type": "code",
   "execution_count": 7,
   "id": "incorporate-starter",
   "metadata": {},
   "outputs": [
    {
     "data": {
      "text/plain": [
       "array([ 50,  26, 103], dtype=uint8)"
      ]
     },
     "execution_count": 7,
     "metadata": {},
     "output_type": "execute_result"
    }
   ],
   "source": [
    "np_im[4,7]"
   ]
  },
  {
   "cell_type": "code",
   "execution_count": 8,
   "id": "neither-diesel",
   "metadata": {},
   "outputs": [
    {
     "data": {
      "text/plain": [
       "array([  2, 110, 239], dtype=uint8)"
      ]
     },
     "execution_count": 8,
     "metadata": {},
     "output_type": "execute_result"
    }
   ],
   "source": [
    "np_im[82,96]"
   ]
  },
  {
   "cell_type": "code",
   "execution_count": 3,
   "id": "medieval-session",
   "metadata": {},
   "outputs": [],
   "source": [
    "from PIL import Image\n",
    "c = Image.open('Dijsktra Case1 No Path.png')\n",
    "d = c.resize((1000,1000), resample=Image.BOX)\n",
    "d.save('Dijsktra Case1 No Path High.png')"
   ]
  },
  {
   "cell_type": "code",
   "execution_count": null,
   "id": "academic-proportion",
   "metadata": {},
   "outputs": [],
   "source": []
  }
 ],
 "metadata": {
  "kernelspec": {
   "display_name": "Python (base)",
   "language": "python",
   "name": "base"
  },
  "language_info": {
   "codemirror_mode": {
    "name": "ipython",
    "version": 3
   },
   "file_extension": ".py",
   "mimetype": "text/x-python",
   "name": "python",
   "nbconvert_exporter": "python",
   "pygments_lexer": "ipython3",
   "version": "3.8.5"
  }
 },
 "nbformat": 4,
 "nbformat_minor": 5
}
