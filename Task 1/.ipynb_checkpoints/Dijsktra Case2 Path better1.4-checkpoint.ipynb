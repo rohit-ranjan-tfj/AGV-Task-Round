{
 "cells": [
  {
   "cell_type": "code",
   "execution_count": 1,
   "id": "warming-divide",
   "metadata": {},
   "outputs": [],
   "source": [
    "import time\n",
    "start= time.time()\n",
    "from PIL import Image\n",
    "import numpy as np\n",
    "im = Image.open(\"Task_1_Low.png\")\n",
    "np_im = np.array(im)\n",
    "width,height = im.size"
   ]
  },
  {
   "cell_type": "code",
   "execution_count": 2,
   "id": "tropical-cloud",
   "metadata": {},
   "outputs": [],
   "source": [
    "def find_start():\n",
    "    for x in range(height):\n",
    "        for y in range(width):\n",
    "            a,b,c=np_im[x,y]\n",
    "            if((a,b,c)==(45,204,113)):\n",
    "                return x,y"
   ]
  },
  {
   "cell_type": "code",
   "execution_count": 3,
   "id": "continent-commander",
   "metadata": {},
   "outputs": [],
   "source": [
    "def find_end():\n",
    "    for x in range(height):\n",
    "        for y in range(width):\n",
    "            a,b,c=np_im[x,y]\n",
    "            if((a,b,c)==(231,76,60)):\n",
    "                return x,y"
   ]
  },
  {
   "cell_type": "code",
   "execution_count": 4,
   "id": "satisfactory-transcript",
   "metadata": {},
   "outputs": [],
   "source": [
    "def min_index(list):\n",
    "    min = dist[list[0]]\n",
    "    mini = 0\n",
    "    for i in range(len(list)):\n",
    "        if dist[list[i]]<=min:\n",
    "            min=dist[list[i]]\n",
    "            mini=i\n",
    "    return mini       "
   ]
  },
  {
   "cell_type": "code",
   "execution_count": 5,
   "id": "dutch-impression",
   "metadata": {},
   "outputs": [],
   "source": [
    "x,y=find_start()"
   ]
  },
  {
   "cell_type": "code",
   "execution_count": 6,
   "id": "geographic-guide",
   "metadata": {},
   "outputs": [],
   "source": [
    "parent = np.zeros((height,width))\n",
    "dist = np.ones((height,width))*10000000\n",
    "dist[x,y]=0\n",
    "open = [(x,y)]"
   ]
  },
  {
   "cell_type": "code",
   "execution_count": 7,
   "id": "wanted-wallet",
   "metadata": {},
   "outputs": [],
   "source": [
    "while len(open):\n",
    "#     print(open)\n",
    "    c_x,c_y = open[min_index(open)]\n",
    "    open.pop(min_index(open))\n",
    "    if (c_x+1)<height:\n",
    "        a,b,c=np_im[c_x+1,c_y]\n",
    "        if (dist[c_x+1,c_y]>dist[c_x,c_y]+1) and ((a,b,c)!=(255,255,255)):\n",
    "            dist[c_x+1,c_y]=dist[c_x,c_y]+1\n",
    "            open.append((c_x+1,c_y))\n",
    "            parent[c_x+1,c_y]=1\n",
    "            np_im[c_x+1,c_y]=(255,0,0)\n",
    "        if (a,b,c)==[231,76,60]:\n",
    "            break\n",
    "    if (c_x-1)>=0:\n",
    "        a,b,c=np_im[c_x-1,c_y]\n",
    "        if (dist[c_x-1,c_y]>dist[c_x,c_y]+1) and ((a,b,c)!=(255,255,255)):\n",
    "            dist[c_x-1,c_y]=dist[c_x,c_y]+1\n",
    "            open.append((c_x-1,c_y))\n",
    "            parent[c_x-1,c_y]=3\n",
    "            np_im[c_x-1,c_y]=(255,0,0)\n",
    "        if (a,b,c)==[231,76,60]:\n",
    "            break\n",
    "    if (c_y+1)<width:\n",
    "        a,b,c=np_im[c_x,c_y+1]\n",
    "        if (dist[c_x,c_y+1]>dist[c_x,c_y]+1) and ((a,b,c)!=(255,255,255)):\n",
    "            dist[c_x,c_y+1]=dist[c_x,c_y]+1\n",
    "            open.append((c_x,c_y+1))\n",
    "            parent[c_x,c_y+1]=4\n",
    "            np_im[c_x,c_y+1]=(255,0,0)\n",
    "        if (a,b,c)==[231,76,60]:\n",
    "            break\n",
    "    if (c_y-1)>=0:\n",
    "        a,b,c=np_im[c_x,c_y-1]\n",
    "        if (dist[c_x,c_y-1]>dist[c_x,c_y]+1) and ((a,b,c)!=(255,255,255)):\n",
    "            dist[c_x,c_y-1]=dist[c_x,c_y]+1\n",
    "            open.append((c_x,c_y-1))\n",
    "            parent[c_x,c_y-1]=2\n",
    "            np_im[c_x,c_y-1]=(255,0,0)\n",
    "        if (a,b,c)==[231,76,60]:\n",
    "            break\n",
    "    if (c_x+1)<height and (c_y +1)<width:\n",
    "        a,b,c=np_im[c_x+1,c_y+1]\n",
    "        if (dist[c_x+1,c_y+1]>dist[c_x,c_y]+1) and ((a,b,c)!=(255,255,255)):\n",
    "            dist[c_x+1,c_y+1]=dist[c_x,c_y]+1\n",
    "            open.append((c_x+1,c_y+1))\n",
    "            parent[c_x+1,c_y+1]=8\n",
    "            np_im[c_x+1,c_y+1]=(255,0,0)\n",
    "        if (a,b,c)==[231,76,60]:\n",
    "            break\n",
    "    if (c_x+1)<height and (c_y -1)>=0:\n",
    "        a,b,c=np_im[c_x+1,c_y-1]\n",
    "        if (dist[c_x+1,c_y-1]>dist[c_x,c_y]+1) and ((a,b,c)!=(255,255,255)):\n",
    "            dist[c_x+1,c_y-1]=dist[c_x,c_y]+1\n",
    "            open.append((c_x+1,c_y-1))\n",
    "            parent[c_x+1,c_y-1]=5\n",
    "            np_im[c_x+1,c_y-1]=(255,0,0)\n",
    "        if (a,b,c)==[231,76,60]:\n",
    "            break\n",
    "    if (c_x-1)>=0 and (c_y +1)<width:\n",
    "        a,b,c=np_im[c_x-1,c_y+1]\n",
    "        if (dist[c_x-1,c_y+1]>dist[c_x,c_y]+1) and ((a,b,c)!=(255,255,255)):\n",
    "            dist[c_x-1,c_y+1]=dist[c_x,c_y]+1\n",
    "            open.append((c_x-1,c_y+1))\n",
    "            parent[c_x-1,c_y+1]=7\n",
    "            np_im[c_x-1,c_y+1]=(255,0,0)\n",
    "        if (a,b,c)==[231,76,60]:\n",
    "            break\n",
    "    if (c_x-1)>=0 and (c_y -1)>=0:\n",
    "        a,b,c=np_im[c_x-1,c_y-1]\n",
    "        if (dist[c_x-1,c_y-1]>dist[c_x,c_y]+1) and ((a,b,c)!=(255,255,255)):\n",
    "            dist[c_x-1,c_y-1]=dist[c_x,c_y]+1\n",
    "            open.append((c_x-1,c_y-1))\n",
    "            parent[c_x-1,c_y-1]=6\n",
    "            np_im[c_x-1,c_y-1]=(255,0,0)\n",
    "        if (a,b,c)==[231,76,60]:\n",
    "            break\n",
    "#     new_im = Image.fromarray(np_im)\n",
    "#     new_im.show()\n",
    "    "
   ]
  },
  {
   "cell_type": "code",
   "execution_count": 8,
   "id": "willing-there",
   "metadata": {},
   "outputs": [],
   "source": [
    "def path(a,b):\n",
    "    while 1:\n",
    "        x,y,z = np_im[a,b]\n",
    "        if (x,y,z) ==(45,204,113):\n",
    "            break\n",
    "        np_im[a,b]=(0,255,0)\n",
    "        if(parent[a,b]==1):\n",
    "            a=a-1\n",
    "        elif (parent[a,b]==2):\n",
    "            b=b+1\n",
    "        elif (parent[a,b]==3):\n",
    "            a=a+1\n",
    "        elif (parent[a,b]==4):\n",
    "            b=b-1\n",
    "        elif (parent[a,b]==5):\n",
    "            a=a-1\n",
    "            b=b+1\n",
    "        elif (parent[a,b]==6):\n",
    "            a=a+1\n",
    "            b=b+1\n",
    "        elif (parent[a,b]==7):\n",
    "            a=a+1\n",
    "            b=b-1\n",
    "        elif (parent[a,b]==8):\n",
    "            a=a-1\n",
    "            b=b-1\n",
    "        "
   ]
  },
  {
   "cell_type": "code",
   "execution_count": 9,
   "id": "injured-petite",
   "metadata": {},
   "outputs": [],
   "source": [
    "path(82,96)"
   ]
  },
  {
   "cell_type": "code",
   "execution_count": 10,
   "id": "sunset-weekly",
   "metadata": {},
   "outputs": [],
   "source": [
    "new_im = Image.fromarray(np_im)\n",
    "new_im.show()\n",
    "new_im.save(\"Dijsktra Case2 Path.png\")"
   ]
  },
  {
   "cell_type": "code",
   "execution_count": 11,
   "id": "configured-surgery",
   "metadata": {},
   "outputs": [
    {
     "name": "stdout",
     "output_type": "stream",
     "text": [
      "Time= 1.030348539352417\n",
      "Cost= 124.0\n"
     ]
    }
   ],
   "source": [
    "end=time.time()\n",
    "s= end-start\n",
    "print(\"Time=\",s)\n",
    "print(\"Cost=\",dist[82,96])"
   ]
  },
  {
   "cell_type": "code",
   "execution_count": 12,
   "id": "incomplete-excess",
   "metadata": {},
   "outputs": [],
   "source": [
    "c = Image.open('Dijsktra Case2 Path.png')\n",
    "d = c.resize((1000,1000), resample=Image.BOX)\n",
    "d.save('Dijsktra Case2 Path High.png')"
   ]
  }
 ],
 "metadata": {
  "kernelspec": {
   "display_name": "Python (base)",
   "language": "python",
   "name": "base"
  },
  "language_info": {
   "codemirror_mode": {
    "name": "ipython",
    "version": 3
   },
   "file_extension": ".py",
   "mimetype": "text/x-python",
   "name": "python",
   "nbconvert_exporter": "python",
   "pygments_lexer": "ipython3",
   "version": "3.8.5"
  }
 },
 "nbformat": 4,
 "nbformat_minor": 5
}
