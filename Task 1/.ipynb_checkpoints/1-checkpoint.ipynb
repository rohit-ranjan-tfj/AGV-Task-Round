{
 "cells": [
  {
   "cell_type": "code",
   "execution_count": 1,
   "id": "olympic-baltimore",
   "metadata": {},
   "outputs": [],
   "source": [
    "import numpy as np\n",
    "from PIL import Image"
   ]
  },
  {
   "cell_type": "code",
   "execution_count": 2,
   "id": "romance-boring",
   "metadata": {},
   "outputs": [],
   "source": [
    "def simplify_image(path):\n",
    "    output = np.empty((100,100))\n",
    "    img=Image.open(path)\n",
    "    width,height =img.size\n",
    "    pixel_values = list(img.getdata())\n",
    "    pixel_values = np.array(pixel_values).reshape((width, height, 3))\n",
    "    for x in range(width):\n",
    "        for y in range(height):\n",
    "            a,b,c = pixel_values[x,y]\n",
    "            if a+b+c==0:\n",
    "                output[x,y]=0\n",
    "            elif a+b+c==765:\n",
    "                output[x,y]=1\n",
    "            elif a+b+c==367 :\n",
    "                output[x,y]=2\n",
    "            elif a+b+c==362 :\n",
    "                output[x,y]=3      \n",
    "    return output"
   ]
  },
  {
   "cell_type": "code",
   "execution_count": 3,
   "id": "dirty-fighter",
   "metadata": {},
   "outputs": [],
   "source": [
    "def final_image(array):\n",
    "    img= np.empty((100,100,3))\n",
    "    for x in range(100):\n",
    "        for y in range(100):\n",
    "            if array[x,y]==0:\n",
    "                img[x,y]=(0,0,0)\n",
    "            elif array[x,y]==1:\n",
    "                img[x,y]=(255,255,255)\n",
    "            elif array[x,y]==2 :\n",
    "                img[x,y]=(231,76,60)\n",
    "            elif array[x,y]==3 :\n",
    "                img[x,y]=(45,204,113)\n",
    "            elif array[x,y]==4 :\n",
    "                img[x,y]=(0,255,255)\n",
    "    # creating image object of\n",
    "    # above array\n",
    "    data = Image.fromarray(img,'RGB')\n",
    "      \n",
    "    # saving the final output \n",
    "    # as a PNG file\n",
    "    data.save('gfg_dummy_pic.png')"
   ]
  },
  {
   "cell_type": "code",
   "execution_count": 4,
   "id": "existing-wound",
   "metadata": {},
   "outputs": [],
   "source": [
    "final_image(simplify_image('Task_1_Low.png'))"
   ]
  },
  {
   "cell_type": "code",
   "execution_count": 14,
   "id": "arranged-commercial",
   "metadata": {},
   "outputs": [],
   "source": [
    "final_image(arr)"
   ]
  },
  {
   "cell_type": "code",
   "execution_count": 13,
   "id": "lesser-silicon",
   "metadata": {},
   "outputs": [],
   "source": [
    "arr = np.ones((100,100))"
   ]
  },
  {
   "cell_type": "code",
   "execution_count": 11,
   "id": "differential-building",
   "metadata": {},
   "outputs": [
    {
     "data": {
      "text/plain": [
       "array([[0., 0., 0., ..., 0., 0., 0.],\n",
       "       [0., 0., 0., ..., 0., 0., 0.],\n",
       "       [0., 0., 0., ..., 0., 0., 0.],\n",
       "       ...,\n",
       "       [0., 0., 0., ..., 0., 0., 0.],\n",
       "       [0., 0., 0., ..., 0., 0., 0.],\n",
       "       [0., 0., 0., ..., 0., 0., 0.]])"
      ]
     },
     "execution_count": 11,
     "metadata": {},
     "output_type": "execute_result"
    }
   ],
   "source": [
    "arr"
   ]
  },
  {
   "cell_type": "code",
   "execution_count": null,
   "id": "defensive-religious",
   "metadata": {},
   "outputs": [],
   "source": []
  }
 ],
 "metadata": {
  "kernelspec": {
   "display_name": "Python (base)",
   "language": "python",
   "name": "base"
  },
  "language_info": {
   "codemirror_mode": {
    "name": "ipython",
    "version": 3
   },
   "file_extension": ".py",
   "mimetype": "text/x-python",
   "name": "python",
   "nbconvert_exporter": "python",
   "pygments_lexer": "ipython3",
   "version": "3.8.5"
  }
 },
 "nbformat": 4,
 "nbformat_minor": 5
}
